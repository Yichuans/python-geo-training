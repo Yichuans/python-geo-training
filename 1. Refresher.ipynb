{
 "cells": [
  {
   "cell_type": "markdown",
   "metadata": {},
   "source": [
    "## What is Python\n",
    "\n",
    "A generic purpose, multi-paradigm programming language. It's simple, flexible and powerful. There are fantastic libraries to empower data analysis, GIS and visualisation, supported by a enthusiatic community.\n",
    "\n",
    "[The Hitchhiker’s Guide to Python!](https://docs.python-guide.org/)"
   ]
  },
  {
   "cell_type": "code",
   "execution_count": 2,
   "metadata": {},
   "outputs": [
    {
     "name": "stdout",
     "output_type": "stream",
     "text": [
      "Hello World\n"
     ]
    }
   ],
   "source": [
    "# classic\n",
    "print('Hello World')"
   ]
  },
  {
   "cell_type": "code",
   "execution_count": 4,
   "metadata": {},
   "outputs": [
    {
     "data": {
      "text/plain": [
       "4"
      ]
     },
     "execution_count": 4,
     "metadata": {},
     "output_type": "execute_result"
    }
   ],
   "source": [
    "# function - imperative\n",
    "def add(a, b):\n",
    "    return a + b\n",
    "\n",
    "add(1,3)"
   ]
  },
  {
   "cell_type": "code",
   "execution_count": 6,
   "metadata": {},
   "outputs": [
    {
     "name": "stdout",
     "output_type": "stream",
     "text": [
      "[2, 5, 10, 17]\n"
     ]
    }
   ],
   "source": [
    "# functional\n",
    "a_list_I_want = [i*i+1 for i in range(1,5)]\n",
    "print(a_list_I_want)"
   ]
  },
  {
   "cell_type": "code",
   "execution_count": 9,
   "metadata": {},
   "outputs": [
    {
     "data": {
      "text/plain": [
       "'The Origin of Species'"
      ]
     },
     "execution_count": 9,
     "metadata": {},
     "output_type": "execute_result"
    }
   ],
   "source": [
    "# object oriented\n",
    "class book:\n",
    "    def __init__(self, book_name):\n",
    "        self.name = book_name\n",
    "\n",
    "mybook = book('The Origin of Species')\n",
    "mybook.name"
   ]
  },
  {
   "cell_type": "markdown",
   "metadata": {},
   "source": [
    "## Control\n",
    "\n",
    "1. `if` statement\n",
    "2. `for` statement"
   ]
  },
  {
   "cell_type": "code",
   "execution_count": 12,
   "metadata": {},
   "outputs": [
    {
     "name": "stdout",
     "output_type": "stream",
     "text": [
      "We face a biodiversity crisis\n"
     ]
    }
   ],
   "source": [
    "massive_biodiversity_decline = True\n",
    "\n",
    "if massive_biodiversity_decline:\n",
    "    print('We face a biodiversity crisis')\n",
    "else:\n",
    "    print('We do not have a biodiversity crisis')"
   ]
  },
  {
   "cell_type": "code",
   "execution_count": 13,
   "metadata": {},
   "outputs": [
    {
     "name": "stdout",
     "output_type": "stream",
     "text": [
      "hi\n",
      "hi\n",
      "hi\n",
      "hi\n",
      "hi\n"
     ]
    }
   ],
   "source": [
    "def say_hi():\n",
    "    print('hi')\n",
    "    \n",
    "# say hi five times\n",
    "for i in range(5):\n",
    "    say_hi()"
   ]
  },
  {
   "cell_type": "markdown",
   "metadata": {},
   "source": [
    "With `if` and `for`, you can achieve complex logics"
   ]
  },
  {
   "cell_type": "code",
   "execution_count": 15,
   "metadata": {},
   "outputs": [
    {
     "name": "stdout",
     "output_type": "stream",
     "text": [
      "0\n",
      "10\n",
      "20\n",
      "30\n",
      "40\n",
      "50\n",
      "60\n",
      "70\n",
      "80\n",
      "90\n"
     ]
    }
   ],
   "source": [
    "# mod operation: can be used to track progress\n",
    "for i in range(100):\n",
    "    if i % 10 == 0:\n",
    "        print(i)"
   ]
  },
  {
   "cell_type": "markdown",
   "metadata": {},
   "source": [
    "## DRY principle\n",
    "\n",
    "DRY stands for Don't Repeat Yourself. Encapsulate logic in function, classes or modules. Code should be written once and used many times."
   ]
  },
  {
   "cell_type": "code",
   "execution_count": 16,
   "metadata": {},
   "outputs": [],
   "source": [
    "def add_one(number):\n",
    "    return number + 1\n",
    "\n",
    "def add_two(number):\n",
    "    return number + 2\n",
    "\n",
    "def add_three(number):\n",
    "    return number + 3\n",
    "\n",
    "\n",
    "def add(number1, number2):\n",
    "    return number1 + number2"
   ]
  },
  {
   "cell_type": "code",
   "execution_count": 18,
   "metadata": {},
   "outputs": [
    {
     "name": "stdout",
     "output_type": "stream",
     "text": [
      "2\n",
      "3\n",
      "4\n"
     ]
    }
   ],
   "source": [
    "print(add_one(1))\n",
    "print(add_two(1))\n",
    "print(add_three(1))"
   ]
  },
  {
   "cell_type": "code",
   "execution_count": 19,
   "metadata": {},
   "outputs": [
    {
     "data": {
      "text/plain": [
       "3"
      ]
     },
     "execution_count": 19,
     "metadata": {},
     "output_type": "execute_result"
    }
   ],
   "source": [
    "add(1, 2)"
   ]
  }
 ],
 "metadata": {
  "kernelspec": {
   "display_name": "Python 3",
   "language": "python",
   "name": "python3"
  },
  "language_info": {
   "codemirror_mode": {
    "name": "ipython",
    "version": 3
   },
   "file_extension": ".py",
   "mimetype": "text/x-python",
   "name": "python",
   "nbconvert_exporter": "python",
   "pygments_lexer": "ipython3",
   "version": "3.6.6"
  }
 },
 "nbformat": 4,
 "nbformat_minor": 2
}
