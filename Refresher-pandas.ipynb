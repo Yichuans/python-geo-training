{
 "cells": [
  {
   "cell_type": "markdown",
   "metadata": {},
   "source": [
    "# Pandas?\n",
    "\n",
    "Think of the capabilities of [R](https://www.r-project.org/about.html), but using the Python programming language.\n",
    "\n",
    "It is open source, fast, flexible, easy to learn and easy to use and has become popular in the field of data analysis.\n"
   ]
  },
  {
   "cell_type": "markdown",
   "metadata": {},
   "source": [
    "# 1. Numpy\n",
    "\n",
    "Pandas is a high level library built on top of [Numpy](http://www.numpy.org), a fundamental package for scientific computing with Python that enables powerful and fast array operations, amongst many other functions.\n",
    "\n",
    "## Arrays\n",
    "\n",
    "We already have native Python list and why do we still need numpy? Numpy is feature rich and much, much fast. `a` is a numpy arrange and `b` is a native Python list. The following example shows there is a signifcant performance advantage.\n",
    "\n",
    "`%%timeit` is a [magic function](https://ipython.readthedocs.io/en/stable/interactive/magics.html) for IPython (Interactive Python)"
   ]
  },
  {
   "cell_type": "code",
   "execution_count": 1,
   "metadata": {},
   "outputs": [],
   "source": [
    "import numpy as np\n",
    "from numpy.random import random"
   ]
  },
  {
   "cell_type": "code",
   "execution_count": 2,
   "metadata": {},
   "outputs": [
    {
     "name": "stdout",
     "output_type": "stream",
     "text": [
      "a: <class 'numpy.ndarray'> b: <class 'list'>\n"
     ]
    }
   ],
   "source": [
    "# get the same data in two data types\n",
    "a = random(1000)\n",
    "b = list(a)\n",
    "print('a:', type(a), 'b:', type(b))"
   ]
  },
  {
   "cell_type": "code",
   "execution_count": 3,
   "metadata": {},
   "outputs": [
    {
     "name": "stdout",
     "output_type": "stream",
     "text": [
      "2.69 µs ± 130 ns per loop (mean ± std. dev. of 7 runs, 100000 loops each)\n"
     ]
    }
   ],
   "source": [
    "%%timeit \n",
    "a.sum()"
   ]
  },
  {
   "cell_type": "code",
   "execution_count": 4,
   "metadata": {},
   "outputs": [
    {
     "name": "stdout",
     "output_type": "stream",
     "text": [
      "173 µs ± 2.43 µs per loop (mean ± std. dev. of 7 runs, 10000 loops each)\n"
     ]
    }
   ],
   "source": [
    "%%timeit\n",
    "b = list(a)\n",
    "b_sum = 0\n",
    "while b:\n",
    "    b_sum += b.pop()\n",
    "b_sum"
   ]
  },
  {
   "cell_type": "markdown",
   "metadata": {},
   "source": [
    "For example, a common task is to convert a raster image to an numpy array so that it could be manipulated outside/bypassing a GIS, enabling more flexible and fast way to produce statistics. \n",
    "\n",
    "Imagine the following hypothetical array of values representing a 100 by 10 image (each pixel 30m x 30m resolution) of percentage tree cover, i.e. a pixel value of 0.43 suggest this pixel has 43% forest cover. The questions are:\n",
    "\n",
    "- considering the definition of a forest pixel being more than 25% (FAO definition), what is the total size of forest in the image.\n",
    "- what if the definition threshold has been reduced to 10%?"
   ]
  },
  {
   "cell_type": "code",
   "execution_count": 5,
   "metadata": {},
   "outputs": [],
   "source": [
    "# hypothetical image\n",
    "forest_cover = random(1000).reshape(100,10)"
   ]
  },
  {
   "cell_type": "code",
   "execution_count": 6,
   "metadata": {},
   "outputs": [
    {
     "data": {
      "text/plain": [
       "array([[8.36204728e-01, 9.91907195e-01, 1.40453520e-01, 5.65014457e-01,\n",
       "        5.67709238e-01, 2.96724418e-01, 9.64913010e-01, 5.77907070e-01,\n",
       "        3.48035051e-01, 3.24866906e-02],\n",
       "       [5.56528062e-01, 9.39697451e-01, 3.31770063e-01, 8.22352894e-01,\n",
       "        9.97943637e-01, 8.44858645e-01, 4.87985173e-01, 6.46556964e-01,\n",
       "        1.42757186e-01, 6.26104873e-01],\n",
       "       [7.83884639e-01, 6.92142746e-01, 3.66516693e-01, 8.73736862e-01,\n",
       "        7.71998252e-02, 4.37226184e-01, 1.23277010e-01, 2.95274990e-01,\n",
       "        9.84565030e-01, 8.84997852e-01],\n",
       "       [9.57705474e-01, 2.94724493e-01, 8.63661765e-01, 1.11277215e-02,\n",
       "        9.48403773e-02, 6.05013333e-01, 1.25898280e-01, 5.71117225e-01,\n",
       "        6.54051755e-01, 8.95158541e-01],\n",
       "       [7.72566035e-01, 6.52806029e-01, 5.24489892e-01, 5.45061395e-01,\n",
       "        7.11596512e-01, 2.36153646e-01, 7.05689132e-01, 3.56501173e-01,\n",
       "        6.89903478e-01, 9.41739559e-01],\n",
       "       [7.18852535e-02, 2.09867844e-01, 4.58865039e-01, 9.61930586e-02,\n",
       "        9.04423479e-01, 2.36272841e-01, 4.11166570e-01, 8.08125862e-01,\n",
       "        1.84560662e-01, 3.84004184e-01],\n",
       "       [9.09778056e-01, 8.84445453e-02, 5.28669902e-01, 3.70471755e-01,\n",
       "        4.24423248e-01, 3.93941439e-01, 6.93333200e-01, 8.22842237e-01,\n",
       "        6.01791616e-01, 5.83130843e-02],\n",
       "       [9.49212586e-01, 5.10706863e-01, 1.10979112e-01, 8.41735917e-01,\n",
       "        6.28818658e-01, 1.36491180e-01, 6.96883246e-01, 6.29353485e-01,\n",
       "        6.83425814e-01, 3.19559104e-01],\n",
       "       [7.07102353e-01, 9.80651046e-01, 9.55684404e-01, 7.34311966e-01,\n",
       "        8.45306104e-01, 7.84709048e-01, 3.98041726e-01, 9.36250587e-01,\n",
       "        4.17706981e-01, 9.10457925e-01],\n",
       "       [9.88453955e-01, 8.81253436e-01, 4.13806590e-01, 5.80896206e-01,\n",
       "        8.15627676e-01, 4.16521488e-01, 9.71556992e-01, 7.33552487e-01,\n",
       "        3.44615939e-01, 4.07980688e-01],\n",
       "       [9.92529472e-01, 2.27658672e-01, 2.61023750e-01, 7.28276587e-01,\n",
       "        8.57480357e-02, 6.38259377e-02, 3.15264655e-02, 2.07536067e-01,\n",
       "        5.95259227e-01, 5.99934705e-01],\n",
       "       [3.12843301e-01, 5.21610936e-02, 3.15810782e-01, 8.42826802e-01,\n",
       "        3.73462883e-01, 4.35209485e-01, 7.38817763e-01, 6.67795986e-01,\n",
       "        6.55239552e-01, 2.50123272e-01],\n",
       "       [5.56026931e-01, 5.63078097e-01, 3.10266663e-01, 6.56640795e-01,\n",
       "        2.24361599e-01, 5.53880244e-01, 5.46684990e-01, 4.29097061e-01,\n",
       "        6.02668844e-01, 3.01096912e-01],\n",
       "       [2.70646930e-01, 1.99057858e-01, 4.76884169e-01, 6.02143425e-01,\n",
       "        6.02647921e-01, 5.51989898e-01, 2.30974750e-01, 9.30126662e-01,\n",
       "        9.81301429e-01, 4.39481707e-01],\n",
       "       [3.16935564e-01, 5.36235816e-01, 3.97672925e-01, 8.14067452e-01,\n",
       "        3.27232086e-02, 7.70982103e-01, 4.52130108e-01, 9.92851667e-01,\n",
       "        7.67383027e-01, 7.80802267e-01],\n",
       "       [8.12647098e-01, 4.03145105e-01, 4.69116586e-01, 8.25805415e-01,\n",
       "        4.46203342e-01, 2.73788598e-02, 1.15661659e-02, 8.77617722e-03,\n",
       "        3.31260461e-01, 1.24970463e-01],\n",
       "       [3.19391351e-01, 1.73937087e-01, 1.13529552e-01, 7.16958812e-01,\n",
       "        4.37709080e-01, 1.27727775e-01, 5.30953856e-01, 9.17103185e-01,\n",
       "        9.49703560e-01, 9.76644135e-01],\n",
       "       [8.71893056e-01, 9.21272634e-01, 4.44030095e-01, 6.56018613e-01,\n",
       "        7.71637115e-01, 1.03618322e-01, 6.81406524e-01, 8.11735707e-01,\n",
       "        8.74076979e-01, 7.21716904e-01],\n",
       "       [5.03291304e-01, 2.29473705e-01, 7.89176739e-01, 8.00635888e-02,\n",
       "        5.97530457e-02, 7.14785562e-01, 4.08006909e-01, 9.16907598e-01,\n",
       "        5.79444818e-01, 4.98866711e-01],\n",
       "       [5.96585361e-01, 3.89430860e-01, 1.69145786e-01, 1.66445200e-02,\n",
       "        6.23566037e-01, 3.39038557e-01, 2.77418756e-01, 5.07959121e-01,\n",
       "        7.22564949e-01, 4.60750452e-01],\n",
       "       [1.63060438e-01, 8.44025023e-01, 1.63666478e-01, 3.29620479e-02,\n",
       "        5.96702661e-01, 4.23764108e-01, 4.46533163e-01, 4.95496392e-01,\n",
       "        1.73819789e-01, 4.51420893e-02],\n",
       "       [5.58686618e-02, 4.45655116e-01, 3.21881803e-01, 4.39400066e-01,\n",
       "        9.51750983e-02, 3.75913423e-01, 6.01371492e-01, 8.06181202e-01,\n",
       "        2.27905873e-01, 6.14055424e-01],\n",
       "       [3.90813753e-01, 2.45949481e-01, 1.90607069e-01, 8.88391398e-01,\n",
       "        4.31561069e-01, 6.15782531e-01, 6.22118349e-01, 8.90915874e-01,\n",
       "        9.75881465e-01, 7.77924187e-03],\n",
       "       [1.56078091e-01, 4.17007425e-01, 4.51479879e-01, 7.53798277e-01,\n",
       "        1.55003305e-01, 4.37544692e-01, 3.39338235e-01, 6.57779747e-01,\n",
       "        9.53969479e-01, 1.68331008e-01],\n",
       "       [5.87624307e-01, 8.28481313e-01, 5.42159136e-01, 9.50321658e-01,\n",
       "        7.68394078e-01, 4.87483580e-01, 9.77164319e-01, 2.64169188e-01,\n",
       "        8.58594346e-01, 4.04827050e-01],\n",
       "       [8.32655117e-01, 5.35090879e-01, 2.83498131e-01, 3.81449846e-01,\n",
       "        8.27414519e-01, 6.45341961e-01, 5.21886368e-01, 1.55415835e-01,\n",
       "        5.83662657e-01, 7.43996945e-01],\n",
       "       [6.48613878e-01, 1.25506117e-01, 2.75767854e-01, 5.35845386e-01,\n",
       "        2.18822367e-01, 3.89244436e-01, 2.09957892e-01, 1.62285926e-01,\n",
       "        5.82462531e-01, 4.39433695e-01],\n",
       "       [5.91798434e-01, 2.42928250e-02, 2.10912704e-01, 7.59315445e-02,\n",
       "        2.24744188e-01, 1.70668254e-01, 6.53083550e-01, 5.12804948e-01,\n",
       "        7.15793480e-01, 2.27639128e-01],\n",
       "       [4.77114499e-01, 1.11126846e-01, 6.14903216e-01, 7.02959819e-01,\n",
       "        8.79715507e-01, 3.73813263e-01, 3.86576942e-01, 2.76663489e-01,\n",
       "        2.85383114e-01, 9.52417625e-01],\n",
       "       [1.48230419e-01, 5.36546315e-01, 5.28674728e-01, 5.36590270e-01,\n",
       "        7.55297841e-01, 2.52100067e-02, 5.10481977e-01, 6.36812973e-01,\n",
       "        9.05016608e-01, 8.71754404e-01],\n",
       "       [5.24072185e-01, 2.78843855e-01, 1.03868862e-01, 5.00124266e-01,\n",
       "        3.85750389e-01, 7.26938719e-01, 3.61846404e-01, 3.89425514e-01,\n",
       "        8.14048226e-01, 3.00568011e-01],\n",
       "       [7.85106127e-01, 7.47961776e-01, 9.34684143e-01, 3.82638931e-01,\n",
       "        9.71798703e-01, 7.50502272e-01, 9.81201026e-01, 9.61383182e-01,\n",
       "        3.42151024e-01, 3.47083374e-01],\n",
       "       [1.57349051e-01, 6.52221695e-01, 1.04091928e-01, 9.60462889e-01,\n",
       "        7.02622611e-01, 2.23236574e-01, 4.36612622e-01, 5.57936968e-01,\n",
       "        9.32538917e-01, 5.00444406e-01],\n",
       "       [4.65363260e-01, 9.22252745e-01, 5.48883858e-01, 9.72533183e-01,\n",
       "        1.33119454e-03, 4.62033850e-01, 7.92750357e-01, 9.98275997e-01,\n",
       "        9.00648064e-01, 3.14307614e-01],\n",
       "       [5.50459923e-01, 1.50287228e-01, 1.06229304e-01, 5.06719000e-01,\n",
       "        6.08838120e-01, 9.31757254e-01, 9.05484340e-01, 8.58637646e-01,\n",
       "        4.78407363e-01, 5.98398677e-01],\n",
       "       [3.57499992e-01, 6.23418440e-01, 8.90628983e-01, 4.90034201e-01,\n",
       "        5.84203778e-01, 6.22617825e-01, 1.16897842e-01, 1.87050041e-01,\n",
       "        1.00755353e-02, 1.14468426e-01],\n",
       "       [9.19899743e-01, 9.25374557e-01, 4.60024446e-01, 1.01983129e-01,\n",
       "        2.71965994e-01, 7.30830473e-01, 6.95098274e-01, 6.42015260e-01,\n",
       "        9.38884202e-01, 3.03086186e-01],\n",
       "       [4.00950076e-01, 7.81919767e-01, 2.77617664e-02, 6.62930343e-01,\n",
       "        7.94067521e-01, 3.67693078e-01, 8.04407023e-01, 7.09822159e-01,\n",
       "        2.17902752e-02, 2.73201258e-01],\n",
       "       [6.32089446e-01, 3.26570904e-03, 5.01098012e-01, 2.32680252e-01,\n",
       "        1.06691540e-01, 9.85089182e-01, 4.59455719e-01, 5.73985576e-01,\n",
       "        3.23140664e-01, 7.15807432e-01],\n",
       "       [6.67711163e-01, 8.27728929e-02, 3.43382038e-01, 1.33965187e-01,\n",
       "        4.99454177e-01, 5.75967720e-01, 2.46349788e-02, 2.74236968e-01,\n",
       "        1.04399480e-01, 8.12758060e-01],\n",
       "       [9.56571523e-01, 8.04169013e-01, 6.02039243e-01, 8.77485179e-01,\n",
       "        4.79271836e-01, 7.68168519e-01, 3.47909281e-01, 1.17396493e-01,\n",
       "        5.04929550e-01, 8.41939472e-01],\n",
       "       [4.36169739e-01, 5.12956089e-01, 2.55655572e-01, 1.06487809e-01,\n",
       "        6.74195684e-01, 9.93308812e-01, 4.83487762e-01, 6.52044103e-01,\n",
       "        6.74371555e-01, 2.19535845e-02],\n",
       "       [2.58858964e-01, 7.76948484e-01, 5.85929827e-01, 1.82390493e-01,\n",
       "        9.47217165e-01, 7.11698882e-01, 1.04515885e-01, 3.45103089e-01,\n",
       "        4.04531758e-01, 9.51459897e-01],\n",
       "       [7.13011048e-01, 2.47760135e-01, 6.43404510e-02, 7.91636682e-02,\n",
       "        2.85104264e-01, 9.32428605e-01, 9.61892806e-01, 2.99832614e-01,\n",
       "        8.42041242e-01, 8.84588472e-01],\n",
       "       [4.50535432e-01, 2.70281575e-01, 7.11409322e-01, 3.42326228e-01,\n",
       "        4.32942580e-01, 2.35427371e-01, 6.28737357e-01, 7.06169953e-01,\n",
       "        1.15923869e-01, 9.67052356e-01],\n",
       "       [3.87284239e-01, 4.64101238e-01, 6.28356212e-02, 8.28349451e-01,\n",
       "        6.99132828e-01, 1.16561838e-01, 9.30018250e-01, 8.16723013e-01,\n",
       "        7.32648276e-01, 7.51180457e-01],\n",
       "       [3.19568944e-01, 8.73718982e-02, 7.49235526e-01, 6.26980472e-01,\n",
       "        8.65433083e-01, 8.53516209e-01, 4.00344758e-01, 3.48654769e-01,\n",
       "        2.86324164e-01, 6.83087946e-01],\n",
       "       [9.55342479e-01, 1.48483574e-01, 4.10747192e-01, 7.12692310e-01,\n",
       "        9.79230181e-01, 4.35609343e-01, 4.41917588e-01, 8.67135864e-01,\n",
       "        6.56064714e-01, 9.23871345e-02],\n",
       "       [1.73224314e-01, 3.03732194e-01, 8.72017164e-01, 5.95107620e-01,\n",
       "        1.02742959e-01, 5.94175642e-01, 3.49990481e-01, 8.79699640e-01,\n",
       "        9.91168123e-01, 9.58150940e-01],\n",
       "       [6.40109369e-01, 3.14343866e-01, 3.80546685e-01, 5.07790611e-01,\n",
       "        4.10657611e-01, 8.04388999e-01, 2.04378452e-01, 9.79445584e-01,\n",
       "        3.42670591e-01, 2.65683271e-01],\n",
       "       [6.81434201e-01, 2.84158956e-01, 4.54625725e-01, 3.69615822e-01,\n",
       "        8.09565154e-01, 9.38873083e-01, 2.02106087e-01, 4.75246582e-01,\n",
       "        6.43808761e-01, 4.91547972e-01],\n",
       "       [4.33495620e-02, 2.46287580e-01, 4.24145277e-01, 4.56398854e-01,\n",
       "        4.90286956e-01, 8.34312173e-01, 8.48006614e-01, 8.15678220e-01,\n",
       "        8.70037764e-01, 7.01007820e-01],\n",
       "       [4.74178309e-01, 4.16322586e-02, 3.82547217e-01, 6.11092167e-01,\n",
       "        6.81888123e-01, 2.10073869e-01, 5.42165208e-01, 3.92101355e-01,\n",
       "        2.22892736e-01, 9.73274219e-01],\n",
       "       [7.51228314e-01, 7.39816625e-01, 6.40600278e-01, 2.72099109e-01,\n",
       "        3.38588569e-01, 2.31753465e-01, 7.40453422e-01, 8.86768304e-01,\n",
       "        9.32410647e-01, 2.20018954e-01],\n",
       "       [3.39869075e-01, 6.23964577e-01, 2.65248643e-01, 4.33819704e-01,\n",
       "        2.48135034e-01, 5.66925860e-01, 5.57203322e-01, 5.45680436e-01,\n",
       "        7.27866304e-01, 2.80038720e-01],\n",
       "       [7.28455173e-03, 9.96155101e-01, 7.83870186e-01, 8.65701517e-01,\n",
       "        3.23893988e-01, 6.74950436e-01, 1.23868903e-01, 6.51412900e-02,\n",
       "        3.97556273e-01, 8.12036466e-01],\n",
       "       [4.33788932e-01, 8.15218054e-01, 8.67349727e-01, 1.22229763e-01,\n",
       "        9.06092403e-01, 3.26323357e-01, 8.37497918e-01, 2.54958106e-01,\n",
       "        8.45802720e-01, 5.98991122e-01],\n",
       "       [3.99612218e-01, 4.21409538e-01, 3.33414480e-01, 6.42336581e-01,\n",
       "        4.46182880e-01, 9.26881472e-01, 6.15703916e-01, 6.05816293e-01,\n",
       "        2.23509601e-01, 3.75159182e-01],\n",
       "       [7.15197466e-01, 8.30146188e-01, 8.55067305e-02, 4.34688827e-01,\n",
       "        5.65419966e-01, 6.03316643e-02, 3.77067898e-01, 3.02851932e-01,\n",
       "        4.26464338e-01, 6.07882556e-01],\n",
       "       [1.58675981e-01, 2.63202817e-01, 3.09201340e-01, 7.72161065e-01,\n",
       "        8.09071539e-01, 7.39976243e-01, 1.14417838e-01, 1.92010326e-01,\n",
       "        4.33900909e-01, 8.68667294e-01],\n",
       "       [7.59079243e-01, 4.62707769e-01, 1.01884208e-02, 3.55070793e-01,\n",
       "        7.32875528e-01, 9.52034840e-01, 1.79065990e-01, 2.99873906e-01,\n",
       "        5.82270979e-01, 1.83546058e-01],\n",
       "       [7.92228939e-01, 2.08965249e-01, 9.28811258e-02, 2.99847218e-01,\n",
       "        9.15015868e-01, 6.79204880e-01, 8.68774919e-01, 9.02332489e-01,\n",
       "        6.44030649e-01, 8.22987000e-01],\n",
       "       [8.27126807e-01, 1.21177520e-01, 9.20782374e-01, 5.31554135e-01,\n",
       "        9.53684677e-01, 2.67086989e-01, 1.59350267e-01, 4.68478456e-01,\n",
       "        3.35643233e-01, 8.62724461e-02],\n",
       "       [1.40729898e-01, 4.37376067e-01, 9.07599958e-01, 5.63900285e-04,\n",
       "        2.31825036e-01, 4.27033716e-01, 8.11843650e-01, 6.25655098e-01,\n",
       "        7.06851811e-01, 7.89329420e-01],\n",
       "       [1.05365023e-01, 1.69961426e-01, 4.12964336e-01, 5.81907058e-01,\n",
       "        6.63328104e-01, 6.75904978e-01, 2.50866346e-01, 6.58957803e-01,\n",
       "        1.41124870e-02, 5.61655294e-02],\n",
       "       [9.85699661e-01, 7.20070874e-01, 5.90392032e-01, 6.88689527e-01,\n",
       "        4.10487842e-01, 5.66911796e-01, 2.42253557e-01, 8.37614778e-01,\n",
       "        2.34511330e-01, 1.50562127e-01],\n",
       "       [7.46854684e-01, 5.13088276e-01, 4.90873203e-01, 8.08334061e-01,\n",
       "        2.36618475e-01, 3.38154619e-01, 9.20543102e-01, 4.01993845e-01,\n",
       "        6.64045958e-01, 8.12370136e-01],\n",
       "       [2.32255079e-01, 2.22342331e-01, 4.37993273e-01, 1.74843803e-02,\n",
       "        8.35310157e-01, 4.70073105e-01, 1.54691715e-02, 7.85677898e-01,\n",
       "        2.64154070e-01, 6.12720712e-01],\n",
       "       [5.23645554e-01, 3.47570835e-01, 5.67373061e-01, 1.42532666e-01,\n",
       "        4.65594205e-01, 8.26994952e-01, 3.45129655e-01, 5.24878435e-01,\n",
       "        5.71020490e-01, 1.69213259e-01],\n",
       "       [9.97000940e-01, 5.68844485e-01, 9.73475875e-02, 5.51529994e-02,\n",
       "        8.65467018e-01, 9.98736666e-01, 2.37131681e-01, 8.64731635e-01,\n",
       "        3.66407370e-01, 8.50928825e-01],\n",
       "       [5.35496536e-01, 3.11986252e-01, 8.01892341e-01, 8.03754281e-02,\n",
       "        5.16074106e-01, 7.17292607e-01, 8.58459058e-01, 4.51290727e-01,\n",
       "        3.66265548e-01, 9.36608370e-01],\n",
       "       [9.39719925e-01, 4.78946320e-01, 3.95419978e-01, 4.44689262e-01,\n",
       "        5.80773830e-01, 8.97522789e-02, 4.27729067e-01, 5.26825739e-01,\n",
       "        6.42729365e-01, 7.29493305e-01],\n",
       "       [9.13937324e-01, 3.00918469e-01, 6.55376230e-01, 8.97659573e-01,\n",
       "        7.07117469e-02, 1.59376107e-01, 4.57939154e-01, 6.78385818e-04,\n",
       "        4.41498128e-01, 9.14359380e-01],\n",
       "       [7.14727064e-01, 6.39889558e-01, 6.32800056e-01, 1.55718974e-01,\n",
       "        2.37356655e-02, 9.57893574e-02, 9.87741809e-01, 9.00514276e-01,\n",
       "        9.01965127e-01, 6.37193815e-01],\n",
       "       [9.23821462e-01, 2.53521581e-01, 3.76934837e-01, 6.29128210e-01,\n",
       "        3.22739911e-01, 5.17237886e-01, 3.32662944e-01, 7.68134387e-01,\n",
       "        2.30686104e-01, 3.76120417e-01],\n",
       "       [4.68169425e-01, 6.63479485e-01, 7.73940678e-01, 5.30587572e-01,\n",
       "        7.15719759e-01, 3.81430333e-01, 9.68749133e-01, 7.24193070e-01,\n",
       "        1.73522316e-03, 7.94315296e-01],\n",
       "       [5.47397901e-01, 9.49697739e-01, 2.49074508e-01, 4.01310643e-01,\n",
       "        7.80484893e-01, 5.24827047e-01, 6.24281742e-01, 2.86377728e-01,\n",
       "        7.31795498e-01, 6.91743699e-01],\n",
       "       [4.59590792e-01, 9.75157540e-01, 4.40179094e-01, 1.62753712e-01,\n",
       "        1.89451621e-01, 3.90064325e-01, 7.30595300e-01, 9.44077514e-01,\n",
       "        2.13714471e-01, 5.05808516e-01],\n",
       "       [8.05726252e-02, 9.39076128e-01, 4.09776891e-01, 1.18906533e-01,\n",
       "        9.79083287e-01, 3.20460753e-01, 8.40423063e-01, 9.80245517e-01,\n",
       "        2.43014406e-01, 3.38430353e-02],\n",
       "       [4.39616551e-01, 7.75574883e-01, 1.11873486e-01, 1.21435489e-01,\n",
       "        8.56547545e-01, 5.76780409e-01, 4.77073529e-01, 8.98095892e-01,\n",
       "        4.22508941e-01, 4.05399645e-01],\n",
       "       [2.83243755e-01, 6.72707532e-02, 7.49787844e-01, 1.61138649e-02,\n",
       "        5.29753694e-01, 5.60370524e-02, 2.71723796e-01, 6.75930775e-01,\n",
       "        8.43776341e-01, 1.45280815e-01],\n",
       "       [6.09674795e-01, 9.00372348e-01, 2.78707333e-01, 9.58501707e-01,\n",
       "        8.90365095e-01, 3.01266344e-01, 8.53024257e-01, 7.60361980e-01,\n",
       "        9.87094089e-01, 4.09868910e-01],\n",
       "       [6.47070827e-01, 3.52767706e-01, 7.20507168e-01, 2.29784728e-01,\n",
       "        8.76574332e-01, 1.44953950e-01, 7.22671102e-01, 3.46715209e-01,\n",
       "        8.97483835e-01, 2.51019078e-01],\n",
       "       [1.69426360e-01, 6.79792442e-01, 8.93979303e-01, 8.37118205e-01,\n",
       "        1.53051624e-03, 7.73468343e-01, 4.46394940e-02, 2.18581705e-01,\n",
       "        8.37973950e-01, 9.98781437e-01],\n",
       "       [1.08943068e-01, 9.03251390e-01, 9.25879189e-01, 6.47034398e-01,\n",
       "        2.73663048e-01, 9.56799687e-02, 6.46902416e-01, 2.27813845e-01,\n",
       "        7.33946917e-01, 7.32341755e-01],\n",
       "       [6.15866487e-01, 1.65101045e-01, 6.89804843e-01, 7.05259859e-01,\n",
       "        6.90338107e-01, 9.39239992e-02, 7.31668516e-01, 6.55630237e-01,\n",
       "        1.45488898e-01, 2.34701638e-01],\n",
       "       [5.56821189e-01, 3.81154117e-02, 2.66978286e-01, 5.35532122e-02,\n",
       "        6.08301385e-01, 8.52662243e-01, 4.36230395e-01, 2.60397069e-01,\n",
       "        8.44531502e-03, 8.22248536e-01],\n",
       "       [6.67643040e-01, 8.42096423e-01, 2.32354708e-01, 8.87063003e-01,\n",
       "        9.21708067e-01, 5.87265871e-01, 6.77620935e-01, 6.30088880e-01,\n",
       "        8.03392083e-01, 9.35370955e-01],\n",
       "       [3.58251025e-02, 8.95735750e-01, 3.21631635e-01, 6.70716809e-01,\n",
       "        6.87148674e-01, 8.73077258e-01, 4.72556232e-01, 1.28376927e-01,\n",
       "        8.07582309e-01, 3.32091389e-01],\n",
       "       [8.71827019e-01, 8.36456223e-01, 6.84275303e-02, 1.56078907e-01,\n",
       "        2.56065585e-01, 5.14884863e-02, 1.83399508e-01, 4.28831708e-01,\n",
       "        9.02041332e-01, 3.78273760e-01],\n",
       "       [6.62134758e-02, 6.21916742e-01, 2.89768365e-01, 3.95608710e-01,\n",
       "        3.32414692e-01, 8.60067711e-01, 6.34258491e-02, 7.15133001e-01,\n",
       "        1.34418273e-01, 6.01432371e-01],\n",
       "       [6.00631309e-01, 3.12172340e-01, 3.02046332e-01, 1.10541193e-01,\n",
       "        2.66595671e-01, 5.01696070e-01, 7.70066657e-01, 4.31423598e-01,\n",
       "        5.17975857e-01, 2.95104179e-01],\n",
       "       [6.12814540e-01, 8.88968656e-03, 7.11798911e-01, 9.59517735e-01,\n",
       "        2.43579355e-01, 2.32074960e-01, 6.81486775e-01, 4.61789622e-01,\n",
       "        4.69847961e-01, 9.97634785e-01],\n",
       "       [5.67940846e-01, 3.31043907e-01, 5.51652429e-02, 9.46682992e-01,\n",
       "        4.18079798e-01, 8.30267514e-01, 2.72102497e-01, 3.06090248e-01,\n",
       "        7.00298194e-01, 2.30027941e-02],\n",
       "       [2.76861738e-01, 6.95836328e-01, 7.11288499e-02, 8.72693118e-01,\n",
       "        4.66334733e-01, 6.10607356e-01, 4.56136269e-01, 7.58110808e-01,\n",
       "        4.70634305e-01, 5.38240264e-01],\n",
       "       [3.00697850e-03, 7.69259046e-01, 5.87824345e-01, 1.95991576e-01,\n",
       "        3.53646511e-01, 4.49745132e-01, 6.82797032e-01, 8.52163044e-01,\n",
       "        1.37544529e-01, 7.03121209e-01],\n",
       "       [8.16974849e-01, 5.39434342e-01, 8.09170795e-01, 4.27633300e-01,\n",
       "        3.02440421e-01, 7.39190766e-01, 7.10207149e-01, 7.65806586e-01,\n",
       "        6.88426906e-02, 9.50405505e-01],\n",
       "       [8.66011047e-01, 9.75826191e-02, 9.26694060e-01, 4.62977834e-01,\n",
       "        1.67339794e-01, 3.51823923e-01, 4.94853865e-02, 3.68216138e-01,\n",
       "        4.08447729e-01, 8.36573750e-01],\n",
       "       [3.29793524e-01, 3.66848094e-01, 6.63387167e-01, 5.33093780e-01,\n",
       "        7.41975835e-01, 7.69691723e-01, 2.52170065e-01, 1.68607030e-01,\n",
       "        9.42017997e-01, 7.53090535e-01],\n",
       "       [6.33838273e-01, 9.15636381e-01, 6.63243332e-01, 6.17206634e-01,\n",
       "        5.30781499e-01, 9.34992894e-01, 1.07883607e-01, 2.19661054e-01,\n",
       "        5.74195517e-01, 2.42957207e-01]])"
      ]
     },
     "execution_count": 6,
     "metadata": {},
     "output_type": "execute_result"
    }
   ],
   "source": [
    "forest_cover"
   ]
  },
  {
   "cell_type": "markdown",
   "metadata": {},
   "source": [
    "Check if the number of pixels is 1000"
   ]
  },
  {
   "cell_type": "code",
   "execution_count": 7,
   "metadata": {},
   "outputs": [
    {
     "data": {
      "text/plain": [
       "1000"
      ]
     },
     "execution_count": 7,
     "metadata": {},
     "output_type": "execute_result"
    }
   ],
   "source": [
    "forest_cover.size"
   ]
  },
  {
   "cell_type": "markdown",
   "metadata": {},
   "source": [
    "The traditional way would be (probably using a loop) to find those pixel value >25%. This is hugely inefficient, and in fact, hugely easy using a boolen index itself.\n",
    "\n",
    "First let's see an trivial example"
   ]
  },
  {
   "cell_type": "code",
   "execution_count": 8,
   "metadata": {},
   "outputs": [
    {
     "data": {
      "text/plain": [
       "2"
      ]
     },
     "execution_count": 8,
     "metadata": {},
     "output_type": "execute_result"
    }
   ],
   "source": [
    "# booleans arrays value treated: True -> 1, False -> 0\n",
    "np.array([True, False, True]).sum()"
   ]
  },
  {
   "cell_type": "markdown",
   "metadata": {},
   "source": [
    "Let's find all pixels that have values greater than 25%. The result is a matrix of boolean values"
   ]
  },
  {
   "cell_type": "code",
   "execution_count": 9,
   "metadata": {},
   "outputs": [
    {
     "data": {
      "text/plain": [
       "array([[ True,  True, False,  True,  True,  True,  True,  True,  True,\n",
       "        False],\n",
       "       [ True,  True,  True,  True,  True,  True,  True,  True, False,\n",
       "         True],\n",
       "       [ True,  True,  True,  True, False,  True, False,  True,  True,\n",
       "         True],\n",
       "       [ True,  True,  True, False, False,  True, False,  True,  True,\n",
       "         True],\n",
       "       [ True,  True,  True,  True,  True, False,  True,  True,  True,\n",
       "         True],\n",
       "       [False, False,  True, False,  True, False,  True,  True, False,\n",
       "         True],\n",
       "       [ True, False,  True,  True,  True,  True,  True,  True,  True,\n",
       "        False],\n",
       "       [ True,  True, False,  True,  True, False,  True,  True,  True,\n",
       "         True],\n",
       "       [ True,  True,  True,  True,  True,  True,  True,  True,  True,\n",
       "         True],\n",
       "       [ True,  True,  True,  True,  True,  True,  True,  True,  True,\n",
       "         True],\n",
       "       [ True, False,  True,  True, False, False, False, False,  True,\n",
       "         True],\n",
       "       [ True, False,  True,  True,  True,  True,  True,  True,  True,\n",
       "         True],\n",
       "       [ True,  True,  True,  True, False,  True,  True,  True,  True,\n",
       "         True],\n",
       "       [ True, False,  True,  True,  True,  True, False,  True,  True,\n",
       "         True],\n",
       "       [ True,  True,  True,  True, False,  True,  True,  True,  True,\n",
       "         True],\n",
       "       [ True,  True,  True,  True,  True, False, False, False,  True,\n",
       "        False],\n",
       "       [ True, False, False,  True,  True, False,  True,  True,  True,\n",
       "         True],\n",
       "       [ True,  True,  True,  True,  True, False,  True,  True,  True,\n",
       "         True],\n",
       "       [ True, False,  True, False, False,  True,  True,  True,  True,\n",
       "         True],\n",
       "       [ True,  True, False, False,  True,  True,  True,  True,  True,\n",
       "         True],\n",
       "       [False,  True, False, False,  True,  True,  True,  True, False,\n",
       "        False],\n",
       "       [False,  True,  True,  True, False,  True,  True,  True, False,\n",
       "         True],\n",
       "       [ True, False, False,  True,  True,  True,  True,  True,  True,\n",
       "        False],\n",
       "       [False,  True,  True,  True, False,  True,  True,  True,  True,\n",
       "        False],\n",
       "       [ True,  True,  True,  True,  True,  True,  True,  True,  True,\n",
       "         True],\n",
       "       [ True,  True,  True,  True,  True,  True,  True, False,  True,\n",
       "         True],\n",
       "       [ True, False,  True,  True, False,  True, False, False,  True,\n",
       "         True],\n",
       "       [ True, False, False, False, False, False,  True,  True,  True,\n",
       "        False],\n",
       "       [ True, False,  True,  True,  True,  True,  True,  True,  True,\n",
       "         True],\n",
       "       [False,  True,  True,  True,  True, False,  True,  True,  True,\n",
       "         True],\n",
       "       [ True,  True, False,  True,  True,  True,  True,  True,  True,\n",
       "         True],\n",
       "       [ True,  True,  True,  True,  True,  True,  True,  True,  True,\n",
       "         True],\n",
       "       [False,  True, False,  True,  True, False,  True,  True,  True,\n",
       "         True],\n",
       "       [ True,  True,  True,  True, False,  True,  True,  True,  True,\n",
       "         True],\n",
       "       [ True, False, False,  True,  True,  True,  True,  True,  True,\n",
       "         True],\n",
       "       [ True,  True,  True,  True,  True,  True, False, False, False,\n",
       "        False],\n",
       "       [ True,  True,  True, False,  True,  True,  True,  True,  True,\n",
       "         True],\n",
       "       [ True,  True, False,  True,  True,  True,  True,  True, False,\n",
       "         True],\n",
       "       [ True, False,  True, False, False,  True,  True,  True,  True,\n",
       "         True],\n",
       "       [ True, False,  True, False,  True,  True, False,  True, False,\n",
       "         True],\n",
       "       [ True,  True,  True,  True,  True,  True,  True, False,  True,\n",
       "         True],\n",
       "       [ True,  True,  True, False,  True,  True,  True,  True,  True,\n",
       "        False],\n",
       "       [ True,  True,  True, False,  True,  True, False,  True,  True,\n",
       "         True],\n",
       "       [ True, False, False, False,  True,  True,  True,  True,  True,\n",
       "         True],\n",
       "       [ True,  True,  True,  True,  True, False,  True,  True, False,\n",
       "         True],\n",
       "       [ True,  True, False,  True,  True, False,  True,  True,  True,\n",
       "         True],\n",
       "       [ True, False,  True,  True,  True,  True,  True,  True,  True,\n",
       "         True],\n",
       "       [ True, False,  True,  True,  True,  True,  True,  True,  True,\n",
       "        False],\n",
       "       [False,  True,  True,  True, False,  True,  True,  True,  True,\n",
       "         True],\n",
       "       [ True,  True,  True,  True,  True,  True, False,  True,  True,\n",
       "         True],\n",
       "       [ True,  True,  True,  True,  True,  True, False,  True,  True,\n",
       "         True],\n",
       "       [False, False,  True,  True,  True,  True,  True,  True,  True,\n",
       "         True],\n",
       "       [ True, False,  True,  True,  True, False,  True,  True, False,\n",
       "         True],\n",
       "       [ True,  True,  True,  True,  True, False,  True,  True,  True,\n",
       "        False],\n",
       "       [ True,  True,  True,  True, False,  True,  True,  True,  True,\n",
       "         True],\n",
       "       [False,  True,  True,  True,  True,  True, False, False,  True,\n",
       "         True],\n",
       "       [ True,  True,  True, False,  True,  True,  True,  True,  True,\n",
       "         True],\n",
       "       [ True,  True,  True,  True,  True,  True,  True,  True, False,\n",
       "         True],\n",
       "       [ True,  True, False,  True,  True, False,  True,  True,  True,\n",
       "         True],\n",
       "       [False,  True,  True,  True,  True,  True, False, False,  True,\n",
       "         True],\n",
       "       [ True,  True, False,  True,  True,  True, False,  True,  True,\n",
       "        False],\n",
       "       [ True, False, False,  True,  True,  True,  True,  True,  True,\n",
       "         True],\n",
       "       [ True, False,  True,  True,  True,  True, False,  True,  True,\n",
       "        False],\n",
       "       [False,  True,  True, False, False,  True,  True,  True,  True,\n",
       "         True],\n",
       "       [False, False,  True,  True,  True,  True,  True,  True, False,\n",
       "        False],\n",
       "       [ True,  True,  True,  True,  True,  True, False,  True, False,\n",
       "        False],\n",
       "       [ True,  True,  True,  True, False,  True,  True,  True,  True,\n",
       "         True],\n",
       "       [False, False,  True, False,  True,  True, False,  True,  True,\n",
       "         True],\n",
       "       [ True,  True,  True, False,  True,  True,  True,  True,  True,\n",
       "        False],\n",
       "       [ True,  True, False, False,  True,  True, False,  True,  True,\n",
       "         True],\n",
       "       [ True,  True,  True, False,  True,  True,  True,  True,  True,\n",
       "         True],\n",
       "       [ True,  True,  True,  True,  True, False,  True,  True,  True,\n",
       "         True],\n",
       "       [ True,  True,  True,  True, False, False,  True, False,  True,\n",
       "         True],\n",
       "       [ True,  True,  True, False, False, False,  True,  True,  True,\n",
       "         True],\n",
       "       [ True,  True,  True,  True,  True,  True,  True,  True, False,\n",
       "         True],\n",
       "       [ True,  True,  True,  True,  True,  True,  True,  True, False,\n",
       "         True],\n",
       "       [ True,  True, False,  True,  True,  True,  True,  True,  True,\n",
       "         True],\n",
       "       [ True,  True,  True, False, False,  True,  True,  True, False,\n",
       "         True],\n",
       "       [False,  True,  True, False,  True,  True,  True,  True, False,\n",
       "        False],\n",
       "       [ True,  True, False, False,  True,  True,  True,  True,  True,\n",
       "         True],\n",
       "       [ True, False,  True, False,  True, False,  True,  True,  True,\n",
       "        False],\n",
       "       [ True,  True,  True,  True,  True,  True,  True,  True,  True,\n",
       "         True],\n",
       "       [ True,  True,  True, False,  True, False,  True,  True,  True,\n",
       "         True],\n",
       "       [False,  True,  True,  True, False,  True, False, False,  True,\n",
       "         True],\n",
       "       [False,  True,  True,  True,  True, False,  True, False,  True,\n",
       "         True],\n",
       "       [ True, False,  True,  True,  True, False,  True,  True, False,\n",
       "        False],\n",
       "       [ True, False,  True, False,  True,  True,  True,  True, False,\n",
       "         True],\n",
       "       [ True,  True, False,  True,  True,  True,  True,  True,  True,\n",
       "         True],\n",
       "       [False,  True,  True,  True,  True,  True,  True, False,  True,\n",
       "         True],\n",
       "       [ True,  True, False, False,  True, False, False,  True,  True,\n",
       "         True],\n",
       "       [False,  True,  True,  True,  True,  True, False,  True, False,\n",
       "         True],\n",
       "       [ True,  True,  True, False,  True,  True,  True,  True,  True,\n",
       "         True],\n",
       "       [ True, False,  True,  True, False, False,  True,  True,  True,\n",
       "         True],\n",
       "       [ True,  True, False,  True,  True,  True,  True,  True,  True,\n",
       "        False],\n",
       "       [ True,  True, False,  True,  True,  True,  True,  True,  True,\n",
       "         True],\n",
       "       [False,  True,  True, False,  True,  True,  True,  True, False,\n",
       "         True],\n",
       "       [ True,  True,  True,  True,  True,  True,  True,  True, False,\n",
       "         True],\n",
       "       [ True, False,  True,  True, False,  True, False,  True,  True,\n",
       "         True],\n",
       "       [ True,  True,  True,  True,  True,  True,  True, False,  True,\n",
       "         True],\n",
       "       [ True,  True,  True,  True,  True,  True, False, False,  True,\n",
       "        False]])"
      ]
     },
     "execution_count": 9,
     "metadata": {},
     "output_type": "execute_result"
    }
   ],
   "source": [
    "forest_cover>0.25"
   ]
  },
  {
   "cell_type": "markdown",
   "metadata": {},
   "source": [
    "Find the number of pixels > 25%"
   ]
  },
  {
   "cell_type": "code",
   "execution_count": 10,
   "metadata": {},
   "outputs": [
    {
     "data": {
      "text/plain": [
       "777"
      ]
     },
     "execution_count": 10,
     "metadata": {},
     "output_type": "execute_result"
    }
   ],
   "source": [
    "(forest_cover>0.25).sum()"
   ]
  },
  {
   "cell_type": "markdown",
   "metadata": {},
   "source": [
    "By multiplying the the number of forest cell with cell size, the total area of forest can be easily calculated.\n",
    "\n",
    "The total area of forest cover in square kilometers"
   ]
  },
  {
   "cell_type": "code",
   "execution_count": 11,
   "metadata": {},
   "outputs": [
    {
     "data": {
      "text/plain": [
       "0.6993"
      ]
     },
     "execution_count": 11,
     "metadata": {},
     "output_type": "execute_result"
    }
   ],
   "source": [
    "(forest_cover>0.25).sum() * 900 / 1000000.0"
   ]
  },
  {
   "cell_type": "markdown",
   "metadata": {},
   "source": [
    "# 2. Pandas\n",
    "\n",
    "Unlike numpy, Pandas contains higher-level data structures and manipulation tools designed to make data analysis fast and easy in Python, including: data I/O, cleaning, manipulation, visualisation and much more."
   ]
  },
  {
   "cell_type": "code",
   "execution_count": 12,
   "metadata": {},
   "outputs": [],
   "source": [
    "#!pip install pandas"
   ]
  },
  {
   "cell_type": "code",
   "execution_count": 13,
   "metadata": {},
   "outputs": [],
   "source": [
    "%matplotlib inline\n",
    "import pandas as pd"
   ]
  },
  {
   "cell_type": "markdown",
   "metadata": {},
   "source": [
    "## Load data and export result\n",
    "\n",
    "Pandas includes handy functions to handle common data formats. In this section, we will be using data on protected areas and biogeographical classifications in a CSV table. For each ecoregion, its higher classes of biome and realm are given, so are the size of ecoregions and how much of them are covered by protected areas.\n"
   ]
  },
  {
   "cell_type": "code",
   "execution_count": 14,
   "metadata": {},
   "outputs": [],
   "source": [
    "ecoregion = pd.read_csv('ecoregion.csv')"
   ]
  },
  {
   "cell_type": "markdown",
   "metadata": {},
   "source": [
    "Pandas dataframe is very similar to dataframe in R "
   ]
  },
  {
   "cell_type": "code",
   "execution_count": 15,
   "metadata": {},
   "outputs": [
    {
     "data": {
      "text/html": [
       "<div>\n",
       "<style scoped>\n",
       "    .dataframe tbody tr th:only-of-type {\n",
       "        vertical-align: middle;\n",
       "    }\n",
       "\n",
       "    .dataframe tbody tr th {\n",
       "        vertical-align: top;\n",
       "    }\n",
       "\n",
       "    .dataframe thead th {\n",
       "        text-align: right;\n",
       "    }\n",
       "</style>\n",
       "<table border=\"1\" class=\"dataframe\">\n",
       "  <thead>\n",
       "    <tr style=\"text-align: right;\">\n",
       "      <th></th>\n",
       "      <th>id</th>\n",
       "      <th>ecoregion_name</th>\n",
       "      <th>biome</th>\n",
       "      <th>realm</th>\n",
       "      <th>ecoregion_area</th>\n",
       "      <th>area_protected</th>\n",
       "      <th>percent_protected</th>\n",
       "      <th>Unnamed: 7</th>\n",
       "      <th>Unnamed: 8</th>\n",
       "      <th>Unnamed: 9</th>\n",
       "      <th>Unnamed: 10</th>\n",
       "      <th>Unnamed: 11</th>\n",
       "      <th>Unnamed: 12</th>\n",
       "      <th>Unnamed: 13</th>\n",
       "      <th>Unnamed: 14</th>\n",
       "    </tr>\n",
       "  </thead>\n",
       "  <tbody>\n",
       "    <tr>\n",
       "      <th>0</th>\n",
       "      <td>60141</td>\n",
       "      <td>Monte Alegre varzeá</td>\n",
       "      <td>Tropical &amp; Subtropical Moist Broadleaf Forests</td>\n",
       "      <td>Neotropics</td>\n",
       "      <td>66947.385010</td>\n",
       "      <td>15338.980790</td>\n",
       "      <td>22.9%</td>\n",
       "      <td>NaN</td>\n",
       "      <td>All 4 Antarctic ecoregions were excluded from ...</td>\n",
       "      <td>NaN</td>\n",
       "      <td>NaN</td>\n",
       "      <td>NaN</td>\n",
       "      <td>NaN</td>\n",
       "      <td>NaN</td>\n",
       "      <td>NaN</td>\n",
       "    </tr>\n",
       "    <tr>\n",
       "      <th>1</th>\n",
       "      <td>70104</td>\n",
       "      <td>Eastern Micronesia tropical moist forests</td>\n",
       "      <td>Tropical &amp; Subtropical Moist Broadleaf Forests</td>\n",
       "      <td>Oceania</td>\n",
       "      <td>533.660211</td>\n",
       "      <td>40.425363</td>\n",
       "      <td>7.6%</td>\n",
       "      <td>NaN</td>\n",
       "      <td>NaN</td>\n",
       "      <td>NaN</td>\n",
       "      <td>NaN</td>\n",
       "      <td>NaN</td>\n",
       "      <td>NaN</td>\n",
       "      <td>NaN</td>\n",
       "      <td>NaN</td>\n",
       "    </tr>\n",
       "    <tr>\n",
       "      <th>2</th>\n",
       "      <td>30126</td>\n",
       "      <td>Northwestern Congolian lowland forests</td>\n",
       "      <td>Tropical &amp; Subtropical Moist Broadleaf Forests</td>\n",
       "      <td>Afrotropics</td>\n",
       "      <td>435086.230900</td>\n",
       "      <td>91600.352920</td>\n",
       "      <td>21.1%</td>\n",
       "      <td>NaN</td>\n",
       "      <td>NaN</td>\n",
       "      <td>NaN</td>\n",
       "      <td>NaN</td>\n",
       "      <td>NaN</td>\n",
       "      <td>NaN</td>\n",
       "      <td>NaN</td>\n",
       "      <td>NaN</td>\n",
       "    </tr>\n",
       "    <tr>\n",
       "      <th>3</th>\n",
       "      <td>30908</td>\n",
       "      <td>Zambezian halophytics</td>\n",
       "      <td>Flooded Grasslands &amp; Savannas</td>\n",
       "      <td>Afrotropics</td>\n",
       "      <td>30438.547710</td>\n",
       "      <td>6356.705778</td>\n",
       "      <td>20.9%</td>\n",
       "      <td>NaN</td>\n",
       "      <td>NaN</td>\n",
       "      <td>NaN</td>\n",
       "      <td>NaN</td>\n",
       "      <td>NaN</td>\n",
       "      <td>NaN</td>\n",
       "      <td>NaN</td>\n",
       "      <td>NaN</td>\n",
       "    </tr>\n",
       "    <tr>\n",
       "      <th>4</th>\n",
       "      <td>51307</td>\n",
       "      <td>Meseta Central matorral</td>\n",
       "      <td>Deserts &amp; Xeric Shrublands</td>\n",
       "      <td>Nearctic</td>\n",
       "      <td>125544.338500</td>\n",
       "      <td>2546.763524</td>\n",
       "      <td>2.0%</td>\n",
       "      <td>NaN</td>\n",
       "      <td>NaN</td>\n",
       "      <td>NaN</td>\n",
       "      <td>NaN</td>\n",
       "      <td>NaN</td>\n",
       "      <td>NaN</td>\n",
       "      <td>NaN</td>\n",
       "      <td>NaN</td>\n",
       "    </tr>\n",
       "  </tbody>\n",
       "</table>\n",
       "</div>"
      ],
      "text/plain": [
       "      id                             ecoregion_name  \\\n",
       "0  60141                        Monte Alegre varzeá   \n",
       "1  70104  Eastern Micronesia tropical moist forests   \n",
       "2  30126     Northwestern Congolian lowland forests   \n",
       "3  30908                      Zambezian halophytics   \n",
       "4  51307                    Meseta Central matorral   \n",
       "\n",
       "                                            biome        realm  \\\n",
       "0  Tropical & Subtropical Moist Broadleaf Forests   Neotropics   \n",
       "1  Tropical & Subtropical Moist Broadleaf Forests      Oceania   \n",
       "2  Tropical & Subtropical Moist Broadleaf Forests  Afrotropics   \n",
       "3                   Flooded Grasslands & Savannas  Afrotropics   \n",
       "4                      Deserts & Xeric Shrublands     Nearctic   \n",
       "\n",
       "   ecoregion_area  area_protected percent_protected  Unnamed: 7  \\\n",
       "0    66947.385010    15338.980790             22.9%         NaN   \n",
       "1      533.660211       40.425363              7.6%         NaN   \n",
       "2   435086.230900    91600.352920             21.1%         NaN   \n",
       "3    30438.547710     6356.705778             20.9%         NaN   \n",
       "4   125544.338500     2546.763524              2.0%         NaN   \n",
       "\n",
       "                                          Unnamed: 8  Unnamed: 9  Unnamed: 10  \\\n",
       "0  All 4 Antarctic ecoregions were excluded from ...         NaN          NaN   \n",
       "1                                                NaN         NaN          NaN   \n",
       "2                                                NaN         NaN          NaN   \n",
       "3                                                NaN         NaN          NaN   \n",
       "4                                                NaN         NaN          NaN   \n",
       "\n",
       "   Unnamed: 11  Unnamed: 12  Unnamed: 13  Unnamed: 14  \n",
       "0          NaN          NaN          NaN          NaN  \n",
       "1          NaN          NaN          NaN          NaN  \n",
       "2          NaN          NaN          NaN          NaN  \n",
       "3          NaN          NaN          NaN          NaN  \n",
       "4          NaN          NaN          NaN          NaN  "
      ]
     },
     "execution_count": 15,
     "metadata": {},
     "output_type": "execute_result"
    }
   ],
   "source": [
    "ecoregion.head(5)"
   ]
  },
  {
   "cell_type": "markdown",
   "metadata": {},
   "source": [
    "It is very clear that the data is rather 'dirty'"
   ]
  },
  {
   "cell_type": "code",
   "execution_count": 16,
   "metadata": {},
   "outputs": [
    {
     "data": {
      "text/plain": [
       "Index(['Unnamed: 7', 'Unnamed: 8', 'Unnamed: 9', 'Unnamed: 10', 'Unnamed: 11',\n",
       "       'Unnamed: 12', 'Unnamed: 13', 'Unnamed: 14'],\n",
       "      dtype='object')"
      ]
     },
     "execution_count": 16,
     "metadata": {},
     "output_type": "execute_result"
    }
   ],
   "source": [
    "ecoregion.columns[7:]"
   ]
  },
  {
   "cell_type": "code",
   "execution_count": 17,
   "metadata": {},
   "outputs": [
    {
     "data": {
      "text/html": [
       "<div>\n",
       "<style scoped>\n",
       "    .dataframe tbody tr th:only-of-type {\n",
       "        vertical-align: middle;\n",
       "    }\n",
       "\n",
       "    .dataframe tbody tr th {\n",
       "        vertical-align: top;\n",
       "    }\n",
       "\n",
       "    .dataframe thead th {\n",
       "        text-align: right;\n",
       "    }\n",
       "</style>\n",
       "<table border=\"1\" class=\"dataframe\">\n",
       "  <thead>\n",
       "    <tr style=\"text-align: right;\">\n",
       "      <th></th>\n",
       "      <th>id</th>\n",
       "      <th>ecoregion_name</th>\n",
       "      <th>biome</th>\n",
       "      <th>realm</th>\n",
       "      <th>ecoregion_area</th>\n",
       "      <th>area_protected</th>\n",
       "      <th>percent_protected</th>\n",
       "    </tr>\n",
       "  </thead>\n",
       "  <tbody>\n",
       "    <tr>\n",
       "      <th>0</th>\n",
       "      <td>60141</td>\n",
       "      <td>Monte Alegre varzeá</td>\n",
       "      <td>Tropical &amp; Subtropical Moist Broadleaf Forests</td>\n",
       "      <td>Neotropics</td>\n",
       "      <td>66947.385010</td>\n",
       "      <td>15338.980790</td>\n",
       "      <td>22.9%</td>\n",
       "    </tr>\n",
       "    <tr>\n",
       "      <th>1</th>\n",
       "      <td>70104</td>\n",
       "      <td>Eastern Micronesia tropical moist forests</td>\n",
       "      <td>Tropical &amp; Subtropical Moist Broadleaf Forests</td>\n",
       "      <td>Oceania</td>\n",
       "      <td>533.660211</td>\n",
       "      <td>40.425363</td>\n",
       "      <td>7.6%</td>\n",
       "    </tr>\n",
       "    <tr>\n",
       "      <th>2</th>\n",
       "      <td>30126</td>\n",
       "      <td>Northwestern Congolian lowland forests</td>\n",
       "      <td>Tropical &amp; Subtropical Moist Broadleaf Forests</td>\n",
       "      <td>Afrotropics</td>\n",
       "      <td>435086.230900</td>\n",
       "      <td>91600.352920</td>\n",
       "      <td>21.1%</td>\n",
       "    </tr>\n",
       "    <tr>\n",
       "      <th>3</th>\n",
       "      <td>30908</td>\n",
       "      <td>Zambezian halophytics</td>\n",
       "      <td>Flooded Grasslands &amp; Savannas</td>\n",
       "      <td>Afrotropics</td>\n",
       "      <td>30438.547710</td>\n",
       "      <td>6356.705778</td>\n",
       "      <td>20.9%</td>\n",
       "    </tr>\n",
       "    <tr>\n",
       "      <th>4</th>\n",
       "      <td>51307</td>\n",
       "      <td>Meseta Central matorral</td>\n",
       "      <td>Deserts &amp; Xeric Shrublands</td>\n",
       "      <td>Nearctic</td>\n",
       "      <td>125544.338500</td>\n",
       "      <td>2546.763524</td>\n",
       "      <td>2.0%</td>\n",
       "    </tr>\n",
       "  </tbody>\n",
       "</table>\n",
       "</div>"
      ],
      "text/plain": [
       "      id                             ecoregion_name  \\\n",
       "0  60141                        Monte Alegre varzeá   \n",
       "1  70104  Eastern Micronesia tropical moist forests   \n",
       "2  30126     Northwestern Congolian lowland forests   \n",
       "3  30908                      Zambezian halophytics   \n",
       "4  51307                    Meseta Central matorral   \n",
       "\n",
       "                                            biome        realm  \\\n",
       "0  Tropical & Subtropical Moist Broadleaf Forests   Neotropics   \n",
       "1  Tropical & Subtropical Moist Broadleaf Forests      Oceania   \n",
       "2  Tropical & Subtropical Moist Broadleaf Forests  Afrotropics   \n",
       "3                   Flooded Grasslands & Savannas  Afrotropics   \n",
       "4                      Deserts & Xeric Shrublands     Nearctic   \n",
       "\n",
       "   ecoregion_area  area_protected percent_protected  \n",
       "0    66947.385010    15338.980790             22.9%  \n",
       "1      533.660211       40.425363              7.6%  \n",
       "2   435086.230900    91600.352920             21.1%  \n",
       "3    30438.547710     6356.705778             20.9%  \n",
       "4   125544.338500     2546.763524              2.0%  "
      ]
     },
     "execution_count": 17,
     "metadata": {},
     "output_type": "execute_result"
    }
   ],
   "source": [
    "# get rid of columns of no/dirty data/artefacts\n",
    "ecoregion = ecoregion.drop(ecoregion.columns[7:], axis=1)\n",
    "ecoregion.head(5)"
   ]
  },
  {
   "cell_type": "markdown",
   "metadata": {},
   "source": [
    "When you finish, you can export your dataframe to a csv file on disk"
   ]
  },
  {
   "cell_type": "code",
   "execution_count": 18,
   "metadata": {},
   "outputs": [],
   "source": [
    "ecoregion.to_csv('ecoregion_clean.csv', index=False)"
   ]
  },
  {
   "cell_type": "code",
   "execution_count": 19,
   "metadata": {},
   "outputs": [
    {
     "data": {
      "text/html": [
       "<div>\n",
       "<style scoped>\n",
       "    .dataframe tbody tr th:only-of-type {\n",
       "        vertical-align: middle;\n",
       "    }\n",
       "\n",
       "    .dataframe tbody tr th {\n",
       "        vertical-align: top;\n",
       "    }\n",
       "\n",
       "    .dataframe thead th {\n",
       "        text-align: right;\n",
       "    }\n",
       "</style>\n",
       "<table border=\"1\" class=\"dataframe\">\n",
       "  <thead>\n",
       "    <tr style=\"text-align: right;\">\n",
       "      <th></th>\n",
       "      <th>id</th>\n",
       "      <th>ecoregion_name</th>\n",
       "      <th>biome</th>\n",
       "      <th>realm</th>\n",
       "      <th>ecoregion_area</th>\n",
       "      <th>area_protected</th>\n",
       "      <th>percent_protected</th>\n",
       "    </tr>\n",
       "  </thead>\n",
       "  <tbody>\n",
       "    <tr>\n",
       "      <th>0</th>\n",
       "      <td>60141</td>\n",
       "      <td>Monte Alegre varzeá</td>\n",
       "      <td>Tropical &amp; Subtropical Moist Broadleaf Forests</td>\n",
       "      <td>Neotropics</td>\n",
       "      <td>66947.385010</td>\n",
       "      <td>15338.980790</td>\n",
       "      <td>22.9%</td>\n",
       "    </tr>\n",
       "    <tr>\n",
       "      <th>1</th>\n",
       "      <td>70104</td>\n",
       "      <td>Eastern Micronesia tropical moist forests</td>\n",
       "      <td>Tropical &amp; Subtropical Moist Broadleaf Forests</td>\n",
       "      <td>Oceania</td>\n",
       "      <td>533.660211</td>\n",
       "      <td>40.425363</td>\n",
       "      <td>7.6%</td>\n",
       "    </tr>\n",
       "    <tr>\n",
       "      <th>2</th>\n",
       "      <td>30126</td>\n",
       "      <td>Northwestern Congolian lowland forests</td>\n",
       "      <td>Tropical &amp; Subtropical Moist Broadleaf Forests</td>\n",
       "      <td>Afrotropics</td>\n",
       "      <td>435086.230900</td>\n",
       "      <td>91600.352920</td>\n",
       "      <td>21.1%</td>\n",
       "    </tr>\n",
       "    <tr>\n",
       "      <th>3</th>\n",
       "      <td>30908</td>\n",
       "      <td>Zambezian halophytics</td>\n",
       "      <td>Flooded Grasslands &amp; Savannas</td>\n",
       "      <td>Afrotropics</td>\n",
       "      <td>30438.547710</td>\n",
       "      <td>6356.705778</td>\n",
       "      <td>20.9%</td>\n",
       "    </tr>\n",
       "    <tr>\n",
       "      <th>4</th>\n",
       "      <td>51307</td>\n",
       "      <td>Meseta Central matorral</td>\n",
       "      <td>Deserts &amp; Xeric Shrublands</td>\n",
       "      <td>Nearctic</td>\n",
       "      <td>125544.338500</td>\n",
       "      <td>2546.763524</td>\n",
       "      <td>2.0%</td>\n",
       "    </tr>\n",
       "  </tbody>\n",
       "</table>\n",
       "</div>"
      ],
      "text/plain": [
       "      id                             ecoregion_name  \\\n",
       "0  60141                        Monte Alegre varzeá   \n",
       "1  70104  Eastern Micronesia tropical moist forests   \n",
       "2  30126     Northwestern Congolian lowland forests   \n",
       "3  30908                      Zambezian halophytics   \n",
       "4  51307                    Meseta Central matorral   \n",
       "\n",
       "                                            biome        realm  \\\n",
       "0  Tropical & Subtropical Moist Broadleaf Forests   Neotropics   \n",
       "1  Tropical & Subtropical Moist Broadleaf Forests      Oceania   \n",
       "2  Tropical & Subtropical Moist Broadleaf Forests  Afrotropics   \n",
       "3                   Flooded Grasslands & Savannas  Afrotropics   \n",
       "4                      Deserts & Xeric Shrublands     Nearctic   \n",
       "\n",
       "   ecoregion_area  area_protected percent_protected  \n",
       "0    66947.385010    15338.980790             22.9%  \n",
       "1      533.660211       40.425363              7.6%  \n",
       "2   435086.230900    91600.352920             21.1%  \n",
       "3    30438.547710     6356.705778             20.9%  \n",
       "4   125544.338500     2546.763524              2.0%  "
      ]
     },
     "execution_count": 19,
     "metadata": {},
     "output_type": "execute_result"
    }
   ],
   "source": [
    "clean_ecoregion = pd.read_csv('ecoregion_clean.csv')\n",
    "clean_ecoregion.head(5)"
   ]
  },
  {
   "cell_type": "markdown",
   "metadata": {},
   "source": [
    "## Explore data"
   ]
  },
  {
   "cell_type": "markdown",
   "metadata": {},
   "source": [
    "If the field `percent_protected` really the division between `area_protected` and `ecoregion_area`? A good practice when you receive data is that you don't assume it is of good quality even it may appear so. Run a few interity checks, for example, does your data contain duplicate rows? Any missing values? Any obvious errors such as percentage value should never exceed 1?"
   ]
  },
  {
   "cell_type": "code",
   "execution_count": 20,
   "metadata": {},
   "outputs": [
    {
     "data": {
      "text/plain": [
       "id                     int64\n",
       "ecoregion_name        object\n",
       "biome                 object\n",
       "realm                 object\n",
       "ecoregion_area       float64\n",
       "area_protected       float64\n",
       "percent_protected     object\n",
       "dtype: object"
      ]
     },
     "execution_count": 20,
     "metadata": {},
     "output_type": "execute_result"
    }
   ],
   "source": [
    "# check data types\n",
    "clean_ecoregion.dtypes"
   ]
  },
  {
   "cell_type": "markdown",
   "metadata": {},
   "source": [
    "The field is a string object and it needs to be converted to a numeric value before any validation checks can be run"
   ]
  },
  {
   "cell_type": "code",
   "execution_count": 21,
   "metadata": {},
   "outputs": [],
   "source": [
    "clean_ecoregion['percent_protected_numeric'] = clean_ecoregion.percent_protected.replace('%', '', regex=True).astype(float)/100"
   ]
  },
  {
   "cell_type": "code",
   "execution_count": 22,
   "metadata": {},
   "outputs": [],
   "source": [
    "# calculate the percentage from raw areas\n",
    "clean_ecoregion['percent_protected_calculate'] = clean_ecoregion.area_protected /clean_ecoregion.ecoregion_area"
   ]
  },
  {
   "cell_type": "code",
   "execution_count": 23,
   "metadata": {},
   "outputs": [
    {
     "data": {
      "text/plain": [
       "1.0"
      ]
     },
     "execution_count": 23,
     "metadata": {},
     "output_type": "execute_result"
    }
   ],
   "source": [
    "# maximum value of percentage\n",
    "clean_ecoregion.percent_protected_calculate.max()"
   ]
  },
  {
   "cell_type": "code",
   "execution_count": 24,
   "metadata": {},
   "outputs": [
    {
     "data": {
      "text/plain": [
       "0.0004999884693488998"
      ]
     },
     "execution_count": 24,
     "metadata": {},
     "output_type": "execute_result"
    }
   ],
   "source": [
    "# maximum difference between percentage in the original data and one just caluclated\n",
    "np.abs(clean_ecoregion.percent_protected_numeric - clean_ecoregion.percent_protected_calculate).max()"
   ]
  },
  {
   "cell_type": "markdown",
   "metadata": {},
   "source": [
    "Check duplicates"
   ]
  },
  {
   "cell_type": "code",
   "execution_count": 25,
   "metadata": {},
   "outputs": [
    {
     "data": {
      "text/plain": [
       "True"
      ]
     },
     "execution_count": 25,
     "metadata": {},
     "output_type": "execute_result"
    }
   ],
   "source": [
    "# check there is no duplicates\n",
    "# unique value of ecoregion name\n",
    "clean_ecoregion.ecoregion_name.unique().size == clean_ecoregion.index.size"
   ]
  },
  {
   "cell_type": "code",
   "execution_count": 26,
   "metadata": {
    "scrolled": true
   },
   "outputs": [
    {
     "data": {
      "text/html": [
       "<div>\n",
       "<style scoped>\n",
       "    .dataframe tbody tr th:only-of-type {\n",
       "        vertical-align: middle;\n",
       "    }\n",
       "\n",
       "    .dataframe tbody tr th {\n",
       "        vertical-align: top;\n",
       "    }\n",
       "\n",
       "    .dataframe thead th {\n",
       "        text-align: right;\n",
       "    }\n",
       "</style>\n",
       "<table border=\"1\" class=\"dataframe\">\n",
       "  <thead>\n",
       "    <tr style=\"text-align: right;\">\n",
       "      <th></th>\n",
       "      <th>id</th>\n",
       "      <th>ecoregion_area</th>\n",
       "      <th>area_protected</th>\n",
       "      <th>percent_protected_numeric</th>\n",
       "      <th>percent_protected_calculate</th>\n",
       "    </tr>\n",
       "  </thead>\n",
       "  <tbody>\n",
       "    <tr>\n",
       "      <th>count</th>\n",
       "      <td>821.000000</td>\n",
       "      <td>8.210000e+02</td>\n",
       "      <td>821.000000</td>\n",
       "      <td>821.000000</td>\n",
       "      <td>821.000000</td>\n",
       "    </tr>\n",
       "    <tr>\n",
       "      <th>mean</th>\n",
       "      <td>52465.563946</td>\n",
       "      <td>1.610285e+05</td>\n",
       "      <td>23043.785198</td>\n",
       "      <td>0.207116</td>\n",
       "      <td>0.207114</td>\n",
       "    </tr>\n",
       "    <tr>\n",
       "      <th>std</th>\n",
       "      <td>21894.001795</td>\n",
       "      <td>3.287230e+05</td>\n",
       "      <td>44414.061076</td>\n",
       "      <td>0.217698</td>\n",
       "      <td>0.217688</td>\n",
       "    </tr>\n",
       "    <tr>\n",
       "      <th>min</th>\n",
       "      <td>10101.000000</td>\n",
       "      <td>6.082918e+00</td>\n",
       "      <td>0.000000</td>\n",
       "      <td>0.000000</td>\n",
       "      <td>0.000000</td>\n",
       "    </tr>\n",
       "    <tr>\n",
       "      <th>25%</th>\n",
       "      <td>40109.000000</td>\n",
       "      <td>1.615546e+04</td>\n",
       "      <td>1473.016376</td>\n",
       "      <td>0.053000</td>\n",
       "      <td>0.052608</td>\n",
       "    </tr>\n",
       "    <tr>\n",
       "      <th>50%</th>\n",
       "      <td>51303.000000</td>\n",
       "      <td>6.251634e+04</td>\n",
       "      <td>7409.636151</td>\n",
       "      <td>0.128000</td>\n",
       "      <td>0.128252</td>\n",
       "    </tr>\n",
       "    <tr>\n",
       "      <th>75%</th>\n",
       "      <td>70116.000000</td>\n",
       "      <td>1.845928e+05</td>\n",
       "      <td>23922.092960</td>\n",
       "      <td>0.284000</td>\n",
       "      <td>0.283930</td>\n",
       "    </tr>\n",
       "    <tr>\n",
       "      <th>max</th>\n",
       "      <td>81333.000000</td>\n",
       "      <td>4.650158e+06</td>\n",
       "      <td>342909.931800</td>\n",
       "      <td>1.000000</td>\n",
       "      <td>1.000000</td>\n",
       "    </tr>\n",
       "  </tbody>\n",
       "</table>\n",
       "</div>"
      ],
      "text/plain": [
       "                 id  ecoregion_area  area_protected  \\\n",
       "count    821.000000    8.210000e+02      821.000000   \n",
       "mean   52465.563946    1.610285e+05    23043.785198   \n",
       "std    21894.001795    3.287230e+05    44414.061076   \n",
       "min    10101.000000    6.082918e+00        0.000000   \n",
       "25%    40109.000000    1.615546e+04     1473.016376   \n",
       "50%    51303.000000    6.251634e+04     7409.636151   \n",
       "75%    70116.000000    1.845928e+05    23922.092960   \n",
       "max    81333.000000    4.650158e+06   342909.931800   \n",
       "\n",
       "       percent_protected_numeric  percent_protected_calculate  \n",
       "count                 821.000000                   821.000000  \n",
       "mean                    0.207116                     0.207114  \n",
       "std                     0.217698                     0.217688  \n",
       "min                     0.000000                     0.000000  \n",
       "25%                     0.053000                     0.052608  \n",
       "50%                     0.128000                     0.128252  \n",
       "75%                     0.284000                     0.283930  \n",
       "max                     1.000000                     1.000000  "
      ]
     },
     "execution_count": 26,
     "metadata": {},
     "output_type": "execute_result"
    }
   ],
   "source": [
    "# Summary statistics\n",
    "clean_ecoregion.describe()"
   ]
  },
  {
   "cell_type": "markdown",
   "metadata": {},
   "source": [
    "Often it may be of interest to select and focus on a subset of the dataframe, group a number of rows based on common values in a field (pivot table), find low/high and quantities, and to quickly make a graph or map to visually explore their relationships. "
   ]
  },
  {
   "cell_type": "code",
   "execution_count": 27,
   "metadata": {},
   "outputs": [
    {
     "data": {
      "text/plain": [
       "194"
      ]
     },
     "execution_count": 27,
     "metadata": {},
     "output_type": "execute_result"
    }
   ],
   "source": [
    "# how many ecoregions have less than 5% protection\n",
    "(clean_ecoregion.percent_protected_calculate < 0.05).sum()"
   ]
  },
  {
   "cell_type": "code",
   "execution_count": 28,
   "metadata": {},
   "outputs": [],
   "source": [
    "# what are top ecoregions with the lowest protection\n",
    "clean_ecoregion.sort_values?"
   ]
  },
  {
   "cell_type": "code",
   "execution_count": 29,
   "metadata": {},
   "outputs": [
    {
     "name": "stdout",
     "output_type": "stream",
     "text": [
      "        id                                    ecoregion_name  \\\n",
      "804  31304                           Eritrean coastal desert   \n",
      "803  80420               Eastern Anatolian deciduous forests   \n",
      "802  31321            Southwestern Arabian montane woodlands   \n",
      "801  31319                    Somali montane xeric woodlands   \n",
      "820  80515  Northern Anatolian conifer and deciduous forests   \n",
      "\n",
      "                                   biome        realm  ecoregion_area  \\\n",
      "804           Deserts & Xeric Shrublands  Afrotropics     4604.696113   \n",
      "803  Temperate Broadleaf & Mixed Forests   Palearctic    81747.971930   \n",
      "802           Deserts & Xeric Shrublands  Afrotropics    87101.536660   \n",
      "801           Deserts & Xeric Shrublands  Afrotropics    62774.470050   \n",
      "820            Temperate Conifer Forests   Palearctic   101519.257900   \n",
      "\n",
      "     area_protected percent_protected  percent_protected_numeric  \\\n",
      "804             0.0              0.0%                        0.0   \n",
      "803             0.0              0.0%                        0.0   \n",
      "802             0.0              0.0%                        0.0   \n",
      "801             0.0              0.0%                        0.0   \n",
      "820             0.0              0.0%                        0.0   \n",
      "\n",
      "     percent_protected_calculate  \n",
      "804                          0.0  \n",
      "803                          0.0  \n",
      "802                          0.0  \n",
      "801                          0.0  \n",
      "820                          0.0  \n"
     ]
    }
   ],
   "source": [
    "print(clean_ecoregion.sort_values(by='percent_protected_calculate', ascending=False).tail(5))"
   ]
  },
  {
   "cell_type": "markdown",
   "metadata": {},
   "source": [
    "Pivot table equivalent - group by `biome` and check how the porportion of protected areas in relation to total biome area"
   ]
  },
  {
   "cell_type": "code",
   "execution_count": 30,
   "metadata": {},
   "outputs": [],
   "source": [
    "# use ? to look up what this function does\n",
    "biome_agg = clean_ecoregion.groupby('biome').aggregate({'ecoregion_area':sum, 'area_protected':sum})"
   ]
  },
  {
   "cell_type": "code",
   "execution_count": 31,
   "metadata": {},
   "outputs": [
    {
     "data": {
      "text/html": [
       "<div>\n",
       "<style scoped>\n",
       "    .dataframe tbody tr th:only-of-type {\n",
       "        vertical-align: middle;\n",
       "    }\n",
       "\n",
       "    .dataframe tbody tr th {\n",
       "        vertical-align: top;\n",
       "    }\n",
       "\n",
       "    .dataframe thead th {\n",
       "        text-align: right;\n",
       "    }\n",
       "</style>\n",
       "<table border=\"1\" class=\"dataframe\">\n",
       "  <thead>\n",
       "    <tr style=\"text-align: right;\">\n",
       "      <th></th>\n",
       "      <th>ecoregion_area</th>\n",
       "      <th>area_protected</th>\n",
       "    </tr>\n",
       "    <tr>\n",
       "      <th>biome</th>\n",
       "      <th></th>\n",
       "      <th></th>\n",
       "    </tr>\n",
       "  </thead>\n",
       "  <tbody>\n",
       "    <tr>\n",
       "      <th>Boreal Forests/Taiga</th>\n",
       "      <td>1.507795e+07</td>\n",
       "      <td>1.431270e+06</td>\n",
       "    </tr>\n",
       "    <tr>\n",
       "      <th>Deserts &amp; Xeric Shrublands</th>\n",
       "      <td>2.798464e+07</td>\n",
       "      <td>2.708582e+06</td>\n",
       "    </tr>\n",
       "    <tr>\n",
       "      <th>Flooded Grasslands &amp; Savannas</th>\n",
       "      <td>1.096130e+06</td>\n",
       "      <td>3.158410e+05</td>\n",
       "    </tr>\n",
       "    <tr>\n",
       "      <th>Mangroves</th>\n",
       "      <td>3.485189e+05</td>\n",
       "      <td>1.021528e+05</td>\n",
       "    </tr>\n",
       "    <tr>\n",
       "      <th>Mediterranean Forests, Woodlands &amp; Scrub</th>\n",
       "      <td>3.227266e+06</td>\n",
       "      <td>5.116118e+05</td>\n",
       "    </tr>\n",
       "    <tr>\n",
       "      <th>Montane Grasslands &amp; Shrublands</th>\n",
       "      <td>5.203411e+06</td>\n",
       "      <td>1.414551e+06</td>\n",
       "    </tr>\n",
       "    <tr>\n",
       "      <th>Temperate Broadleaf &amp; Mixed Forests</th>\n",
       "      <td>1.283569e+07</td>\n",
       "      <td>1.571072e+06</td>\n",
       "    </tr>\n",
       "    <tr>\n",
       "      <th>Temperate Conifer Forests</th>\n",
       "      <td>4.087094e+06</td>\n",
       "      <td>6.944194e+05</td>\n",
       "    </tr>\n",
       "    <tr>\n",
       "      <th>Temperate Grasslands, Savannas &amp; Shrublands</th>\n",
       "      <td>1.010408e+07</td>\n",
       "      <td>4.652546e+05</td>\n",
       "    </tr>\n",
       "    <tr>\n",
       "      <th>Tropical &amp; Subtropical Coniferous Forests</th>\n",
       "      <td>7.126166e+05</td>\n",
       "      <td>8.708982e+04</td>\n",
       "    </tr>\n",
       "    <tr>\n",
       "      <th>Tropical &amp; Subtropical Dry Broadleaf Forests</th>\n",
       "      <td>3.025997e+06</td>\n",
       "      <td>3.036879e+05</td>\n",
       "    </tr>\n",
       "    <tr>\n",
       "      <th>Tropical &amp; Subtropical Grasslands, Savannas &amp; Shrublands</th>\n",
       "      <td>2.029542e+07</td>\n",
       "      <td>3.079894e+06</td>\n",
       "    </tr>\n",
       "    <tr>\n",
       "      <th>Tropical &amp; Subtropical Moist Broadleaf Forests</th>\n",
       "      <td>1.989415e+07</td>\n",
       "      <td>4.646556e+06</td>\n",
       "    </tr>\n",
       "    <tr>\n",
       "      <th>Tundra</th>\n",
       "      <td>8.311402e+06</td>\n",
       "      <td>1.586965e+06</td>\n",
       "    </tr>\n",
       "  </tbody>\n",
       "</table>\n",
       "</div>"
      ],
      "text/plain": [
       "                                                    ecoregion_area  \\\n",
       "biome                                                                \n",
       "Boreal Forests/Taiga                                  1.507795e+07   \n",
       "Deserts & Xeric Shrublands                            2.798464e+07   \n",
       "Flooded Grasslands & Savannas                         1.096130e+06   \n",
       "Mangroves                                             3.485189e+05   \n",
       "Mediterranean Forests, Woodlands & Scrub              3.227266e+06   \n",
       "Montane Grasslands & Shrublands                       5.203411e+06   \n",
       "Temperate Broadleaf & Mixed Forests                   1.283569e+07   \n",
       "Temperate Conifer Forests                             4.087094e+06   \n",
       "Temperate Grasslands, Savannas & Shrublands           1.010408e+07   \n",
       "Tropical & Subtropical Coniferous Forests             7.126166e+05   \n",
       "Tropical & Subtropical Dry Broadleaf Forests          3.025997e+06   \n",
       "Tropical & Subtropical Grasslands, Savannas & S...    2.029542e+07   \n",
       "Tropical & Subtropical Moist Broadleaf Forests        1.989415e+07   \n",
       "Tundra                                                8.311402e+06   \n",
       "\n",
       "                                                    area_protected  \n",
       "biome                                                               \n",
       "Boreal Forests/Taiga                                  1.431270e+06  \n",
       "Deserts & Xeric Shrublands                            2.708582e+06  \n",
       "Flooded Grasslands & Savannas                         3.158410e+05  \n",
       "Mangroves                                             1.021528e+05  \n",
       "Mediterranean Forests, Woodlands & Scrub              5.116118e+05  \n",
       "Montane Grasslands & Shrublands                       1.414551e+06  \n",
       "Temperate Broadleaf & Mixed Forests                   1.571072e+06  \n",
       "Temperate Conifer Forests                             6.944194e+05  \n",
       "Temperate Grasslands, Savannas & Shrublands           4.652546e+05  \n",
       "Tropical & Subtropical Coniferous Forests             8.708982e+04  \n",
       "Tropical & Subtropical Dry Broadleaf Forests          3.036879e+05  \n",
       "Tropical & Subtropical Grasslands, Savannas & S...    3.079894e+06  \n",
       "Tropical & Subtropical Moist Broadleaf Forests        4.646556e+06  \n",
       "Tundra                                                1.586965e+06  "
      ]
     },
     "execution_count": 31,
     "metadata": {},
     "output_type": "execute_result"
    }
   ],
   "source": [
    "biome_agg"
   ]
  },
  {
   "cell_type": "markdown",
   "metadata": {},
   "source": [
    "Calculate percentage overlap"
   ]
  },
  {
   "cell_type": "code",
   "execution_count": 32,
   "metadata": {},
   "outputs": [],
   "source": [
    "biome_agg['percent'] = biome_agg.area_protected/biome_agg.ecoregion_area"
   ]
  },
  {
   "cell_type": "markdown",
   "metadata": {},
   "source": [
    "Sort value in ascending to identify gap biomes that have insufficient protection"
   ]
  },
  {
   "cell_type": "code",
   "execution_count": 33,
   "metadata": {},
   "outputs": [
    {
     "data": {
      "text/html": [
       "<div>\n",
       "<style scoped>\n",
       "    .dataframe tbody tr th:only-of-type {\n",
       "        vertical-align: middle;\n",
       "    }\n",
       "\n",
       "    .dataframe tbody tr th {\n",
       "        vertical-align: top;\n",
       "    }\n",
       "\n",
       "    .dataframe thead th {\n",
       "        text-align: right;\n",
       "    }\n",
       "</style>\n",
       "<table border=\"1\" class=\"dataframe\">\n",
       "  <thead>\n",
       "    <tr style=\"text-align: right;\">\n",
       "      <th></th>\n",
       "      <th>ecoregion_area</th>\n",
       "      <th>area_protected</th>\n",
       "      <th>percent</th>\n",
       "    </tr>\n",
       "    <tr>\n",
       "      <th>biome</th>\n",
       "      <th></th>\n",
       "      <th></th>\n",
       "      <th></th>\n",
       "    </tr>\n",
       "  </thead>\n",
       "  <tbody>\n",
       "    <tr>\n",
       "      <th>Temperate Grasslands, Savannas &amp; Shrublands</th>\n",
       "      <td>1.010408e+07</td>\n",
       "      <td>4.652546e+05</td>\n",
       "      <td>0.046046</td>\n",
       "    </tr>\n",
       "    <tr>\n",
       "      <th>Boreal Forests/Taiga</th>\n",
       "      <td>1.507795e+07</td>\n",
       "      <td>1.431270e+06</td>\n",
       "      <td>0.094925</td>\n",
       "    </tr>\n",
       "    <tr>\n",
       "      <th>Deserts &amp; Xeric Shrublands</th>\n",
       "      <td>2.798464e+07</td>\n",
       "      <td>2.708582e+06</td>\n",
       "      <td>0.096788</td>\n",
       "    </tr>\n",
       "    <tr>\n",
       "      <th>Tropical &amp; Subtropical Dry Broadleaf Forests</th>\n",
       "      <td>3.025997e+06</td>\n",
       "      <td>3.036879e+05</td>\n",
       "      <td>0.100360</td>\n",
       "    </tr>\n",
       "    <tr>\n",
       "      <th>Tropical &amp; Subtropical Coniferous Forests</th>\n",
       "      <td>7.126166e+05</td>\n",
       "      <td>8.708982e+04</td>\n",
       "      <td>0.122211</td>\n",
       "    </tr>\n",
       "    <tr>\n",
       "      <th>Temperate Broadleaf &amp; Mixed Forests</th>\n",
       "      <td>1.283569e+07</td>\n",
       "      <td>1.571072e+06</td>\n",
       "      <td>0.122399</td>\n",
       "    </tr>\n",
       "    <tr>\n",
       "      <th>Tropical &amp; Subtropical Grasslands, Savannas &amp; Shrublands</th>\n",
       "      <td>2.029542e+07</td>\n",
       "      <td>3.079894e+06</td>\n",
       "      <td>0.151753</td>\n",
       "    </tr>\n",
       "    <tr>\n",
       "      <th>Mediterranean Forests, Woodlands &amp; Scrub</th>\n",
       "      <td>3.227266e+06</td>\n",
       "      <td>5.116118e+05</td>\n",
       "      <td>0.158528</td>\n",
       "    </tr>\n",
       "    <tr>\n",
       "      <th>Temperate Conifer Forests</th>\n",
       "      <td>4.087094e+06</td>\n",
       "      <td>6.944194e+05</td>\n",
       "      <td>0.169905</td>\n",
       "    </tr>\n",
       "    <tr>\n",
       "      <th>Tundra</th>\n",
       "      <td>8.311402e+06</td>\n",
       "      <td>1.586965e+06</td>\n",
       "      <td>0.190938</td>\n",
       "    </tr>\n",
       "    <tr>\n",
       "      <th>Tropical &amp; Subtropical Moist Broadleaf Forests</th>\n",
       "      <td>1.989415e+07</td>\n",
       "      <td>4.646556e+06</td>\n",
       "      <td>0.233564</td>\n",
       "    </tr>\n",
       "    <tr>\n",
       "      <th>Montane Grasslands &amp; Shrublands</th>\n",
       "      <td>5.203411e+06</td>\n",
       "      <td>1.414551e+06</td>\n",
       "      <td>0.271851</td>\n",
       "    </tr>\n",
       "    <tr>\n",
       "      <th>Flooded Grasslands &amp; Savannas</th>\n",
       "      <td>1.096130e+06</td>\n",
       "      <td>3.158410e+05</td>\n",
       "      <td>0.288142</td>\n",
       "    </tr>\n",
       "    <tr>\n",
       "      <th>Mangroves</th>\n",
       "      <td>3.485189e+05</td>\n",
       "      <td>1.021528e+05</td>\n",
       "      <td>0.293105</td>\n",
       "    </tr>\n",
       "  </tbody>\n",
       "</table>\n",
       "</div>"
      ],
      "text/plain": [
       "                                                    ecoregion_area  \\\n",
       "biome                                                                \n",
       "Temperate Grasslands, Savannas & Shrublands           1.010408e+07   \n",
       "Boreal Forests/Taiga                                  1.507795e+07   \n",
       "Deserts & Xeric Shrublands                            2.798464e+07   \n",
       "Tropical & Subtropical Dry Broadleaf Forests          3.025997e+06   \n",
       "Tropical & Subtropical Coniferous Forests             7.126166e+05   \n",
       "Temperate Broadleaf & Mixed Forests                   1.283569e+07   \n",
       "Tropical & Subtropical Grasslands, Savannas & S...    2.029542e+07   \n",
       "Mediterranean Forests, Woodlands & Scrub              3.227266e+06   \n",
       "Temperate Conifer Forests                             4.087094e+06   \n",
       "Tundra                                                8.311402e+06   \n",
       "Tropical & Subtropical Moist Broadleaf Forests        1.989415e+07   \n",
       "Montane Grasslands & Shrublands                       5.203411e+06   \n",
       "Flooded Grasslands & Savannas                         1.096130e+06   \n",
       "Mangroves                                             3.485189e+05   \n",
       "\n",
       "                                                    area_protected   percent  \n",
       "biome                                                                         \n",
       "Temperate Grasslands, Savannas & Shrublands           4.652546e+05  0.046046  \n",
       "Boreal Forests/Taiga                                  1.431270e+06  0.094925  \n",
       "Deserts & Xeric Shrublands                            2.708582e+06  0.096788  \n",
       "Tropical & Subtropical Dry Broadleaf Forests          3.036879e+05  0.100360  \n",
       "Tropical & Subtropical Coniferous Forests             8.708982e+04  0.122211  \n",
       "Temperate Broadleaf & Mixed Forests                   1.571072e+06  0.122399  \n",
       "Tropical & Subtropical Grasslands, Savannas & S...    3.079894e+06  0.151753  \n",
       "Mediterranean Forests, Woodlands & Scrub              5.116118e+05  0.158528  \n",
       "Temperate Conifer Forests                             6.944194e+05  0.169905  \n",
       "Tundra                                                1.586965e+06  0.190938  \n",
       "Tropical & Subtropical Moist Broadleaf Forests        4.646556e+06  0.233564  \n",
       "Montane Grasslands & Shrublands                       1.414551e+06  0.271851  \n",
       "Flooded Grasslands & Savannas                         3.158410e+05  0.288142  \n",
       "Mangroves                                             1.021528e+05  0.293105  "
      ]
     },
     "execution_count": 33,
     "metadata": {},
     "output_type": "execute_result"
    }
   ],
   "source": [
    "biome_agg.sort_values('percent', ascending=True)"
   ]
  },
  {
   "cell_type": "markdown",
   "metadata": {},
   "source": [
    "Visualise the distribution of total area protected in bar chart"
   ]
  },
  {
   "cell_type": "code",
   "execution_count": 34,
   "metadata": {},
   "outputs": [
    {
     "data": {
      "text/plain": [
       "<matplotlib.axes._subplots.AxesSubplot at 0x2630d964710>"
      ]
     },
     "execution_count": 34,
     "metadata": {},
     "output_type": "execute_result"
    },
    {
     "data": {
      "image/png": "[encoded data removed]",
      "text/plain": [
       "<Figure size 432x288 with 1 Axes>"
      ]
     },
     "metadata": {
      "needs_background": "light"
     },
     "output_type": "display_data"
    }
   ],
   "source": [
    "biome_agg.area_protected.plot.bar()"
   ]
  },
  {
   "cell_type": "markdown",
   "metadata": {},
   "source": [
    "Visualise the distribution of percentage in bar chart"
   ]
  },
  {
   "cell_type": "code",
   "execution_count": 35,
   "metadata": {},
   "outputs": [],
   "source": [
    "biome_agg.percent.plot.bar?"
   ]
  },
  {
   "cell_type": "code",
   "execution_count": 36,
   "metadata": {},
   "outputs": [
    {
     "data": {
      "text/plain": [
       "<matplotlib.axes._subplots.AxesSubplot at 0x2630dc62828>"
      ]
     },
     "execution_count": 36,
     "metadata": {},
     "output_type": "execute_result"
    },
    {
     "data": {
      "image/png": "[encoded data removed]",
      "text/plain": [
       "<Figure size 1440x600 with 1 Axes>"
      ]
     },
     "metadata": {
      "needs_background": "light"
     },
     "output_type": "display_data"
    }
   ],
   "source": [
    "from matplotlib.pyplot import figure\n",
    "figure(num=None, figsize=(12, 5), dpi=120)\n",
    "biome_agg.percent.plot.bar()"
   ]
  },
  {
   "cell_type": "markdown",
   "metadata": {},
   "source": [
    "Is there a relationship between the total area protected and the size of biome? Let's use the scatterplot"
   ]
  },
  {
   "cell_type": "code",
   "execution_count": 37,
   "metadata": {},
   "outputs": [
    {
     "data": {
      "text/plain": [
       "<matplotlib.axes._subplots.AxesSubplot at 0x2630dd39fd0>"
      ]
     },
     "execution_count": 37,
     "metadata": {},
     "output_type": "execute_result"
    },
    {
     "data": {
      "image/png": "[encoded data removed]",
      "text/plain": [
       "<Figure size 432x288 with 1 Axes>"
      ]
     },
     "metadata": {
      "needs_background": "light"
     },
     "output_type": "display_data"
    }
   ],
   "source": [
    "biome_agg.plot.scatter('area_protected', 'ecoregion_area')"
   ]
  },
  {
   "cell_type": "markdown",
   "metadata": {},
   "source": [
    "More pandas dataframe plotting functions can be found [here](http://pandas.pydata.org/pandas-docs/stable/generated/pandas.DataFrame.plot.html)"
   ]
  }
 ],
 "metadata": {
  "kernelspec": {
   "display_name": "Python 3",
   "language": "python",
   "name": "python3"
  },
  "language_info": {
   "codemirror_mode": {
    "name": "ipython",
    "version": 3
   },
   "file_extension": ".py",
   "mimetype": "text/x-python",
   "name": "python",
   "nbconvert_exporter": "python",
   "pygments_lexer": "ipython3",
   "version": "3.6.6"
  }
 },
 "nbformat": 4,
 "nbformat_minor": 2
}
