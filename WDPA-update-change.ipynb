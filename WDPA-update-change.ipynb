{
 "cells": [
  {
   "cell_type": "markdown",
   "metadata": {},
   "source": [
    "# Geospatial example using ArcPy: WDPA change statistics\n",
    "\n",
    "## Background\n",
    "\n",
    "After countries submit spatial data to UNEP-WCMC, we incorporate them in World Database on Protected Areas (WDPA), which is released to the public on a monthly basis. It is imperative that quality control is in place to ensure:\n",
    "\n",
    "1. There are no inherent quality issues in the newly submitted data\n",
    "2. Update is correctly incorporated as intended (it could introduce serious errors too, if one is not careful!)\n",
    "\n",
    "Furthermore, it is often useful for data curators to keep a record of what happened during an update, in case any retrospective examinations require this information in the future.\n",
    "\n",
    "## What needs to be done\n",
    "\n",
    "For any two given WDPA releases with the same schema, a pair-wise comparison is calculated for each of the required fields, for example: `name`, `orig_name`, `desig` and etc. If there is a difference, record both the old and new values. It is also necessary to flag records that have been added or deleted.\n",
    "\n",
    "Geometric changes are a must as they, in theory, indicate a change in protected areas boundary. However, it is also possible that the difference may reflect the fact that a better boundary (or mapped at a larger scale) is provided. Thus the check should provide an indication of these differences but defer the judgement to programme staff.\n",
    "\n",
    "## Challenges\n",
    "\n",
    "1. Must be automated as it is not feasible to undertake examination each time when an update is ready for release\n",
    "1. Differences must be identified at the field level\n",
    "2. The large size of WDPA datasets\n",
    "\n",
    "## Solution\n",
    "\n",
    "A production ready solution can be found [here](https://github.com/Yichuans/geoprocessing/blob/master/snippet/check_wdpa_update.py)"
   ]
  },
  {
   "cell_type": "markdown",
   "metadata": {},
   "source": [
    "## 1. Explore\n",
    "\n",
    "Fine grain information retrieval using `arcpy.da.SearchCursor`"
   ]
  },
  {
   "cell_type": "code",
   "execution_count": 107,
   "metadata": {},
   "outputs": [],
   "source": [
    "def get_row_info(wdpa_pid, data, fields_list):\n",
    "    \"\"\"\"\n",
    "    depending on the datatype of pid, generate correct SQL\n",
    "    <wdpa_pid>, <fc/fl>, <list of fields>\"\"\"\n",
    "    where_name = (isinstance(wdpa_pid, int) or isinstance(wdpa_pid, float)) and str(wdpa_pid) or ('\\'' + str(wdpa_pid) + '\\'')\n",
    "    \n",
    "    where_clause = \"wdpa_pid = \" + where_name\n",
    "\n",
    "    with arcpy.da.SearchCursor(data, fields_list, where_clause=where_clause) as cur:\n",
    "        for each in cur:\n",
    "            # if found return the first value\n",
    "            return each\n",
    "        \n",
    "    # if not found return None\n",
    "    return None"
   ]
  },
  {
   "cell_type": "code",
   "execution_count": 108,
   "metadata": {},
   "outputs": [],
   "source": [
    "a = get_row_info(wdpa_pid='4342', fields_list=['SHAPE@'], data=old_data)\n",
    "b = get_row_info(wdpa_pid='4342', fields_list=['SHAPE@'], data=new_data)"
   ]
  },
  {
   "cell_type": "code",
   "execution_count": 109,
   "metadata": {},
   "outputs": [
    {
     "data": {
      "text/plain": [
       "False"
      ]
     },
     "execution_count": 109,
     "metadata": {},
     "output_type": "execute_result"
    }
   ],
   "source": [
    "a[0]!=b[0]"
   ]
  },
  {
   "cell_type": "code",
   "execution_count": 110,
   "metadata": {},
   "outputs": [
    {
     "data": {
      "text/plain": [
       "arcpy.arcobjects.geometries.Polygon"
      ]
     },
     "execution_count": 110,
     "metadata": {},
     "output_type": "execute_result"
    }
   ],
   "source": [
    "type(a[0])"
   ]
  },
  {
   "cell_type": "code",
   "execution_count": 111,
   "metadata": {},
   "outputs": [
    {
     "data": {
      "text/plain": [
       "True"
      ]
     },
     "execution_count": 111,
     "metadata": {},
     "output_type": "execute_result"
    }
   ],
   "source": [
    "isinstance(a[0], arcpy.Geometry)"
   ]
  },
  {
   "cell_type": "code",
   "execution_count": 112,
   "metadata": {},
   "outputs": [],
   "source": [
    "geom = a[0]"
   ]
  },
  {
   "cell_type": "markdown",
   "metadata": {},
   "source": [
    "Area in square degree"
   ]
  },
  {
   "cell_type": "code",
   "execution_count": 113,
   "metadata": {},
   "outputs": [],
   "source": [
    "geom.area?"
   ]
  },
  {
   "cell_type": "code",
   "execution_count": 114,
   "metadata": {},
   "outputs": [
    {
     "data": {
      "text/plain": [
       "3.3789838525636344e-06"
      ]
     },
     "execution_count": 114,
     "metadata": {},
     "output_type": "execute_result"
    }
   ],
   "source": [
    "geom.area"
   ]
  },
  {
   "cell_type": "markdown",
   "metadata": {},
   "source": [
    "Geodesic Area"
   ]
  },
  {
   "cell_type": "code",
   "execution_count": 115,
   "metadata": {},
   "outputs": [
    {
     "data": {
      "text/plain": [
       "28585.385716621553"
      ]
     },
     "execution_count": 115,
     "metadata": {},
     "output_type": "execute_result"
    }
   ],
   "source": [
    "geom.getArea()"
   ]
  },
  {
   "cell_type": "code",
   "execution_count": 116,
   "metadata": {},
   "outputs": [
    {
     "data": {
      "text/plain": [
       "0.02858538571662155"
      ]
     },
     "execution_count": 116,
     "metadata": {},
     "output_type": "execute_result"
    }
   ],
   "source": [
    "geom.getArea(units='SQUAREKILOMETERS')"
   ]
  },
  {
   "cell_type": "markdown",
   "metadata": {},
   "source": [
    "Project to Mollweide"
   ]
  },
  {
   "cell_type": "code",
   "execution_count": 117,
   "metadata": {},
   "outputs": [
    {
     "data": {
      "text/plain": [
       "28585.38571649975"
      ]
     },
     "execution_count": 117,
     "metadata": {},
     "output_type": "execute_result"
    }
   ],
   "source": [
    "geom.projectAs(arcpy.SpatialReference(54009)).getArea()"
   ]
  },
  {
   "cell_type": "code",
   "execution_count": 118,
   "metadata": {},
   "outputs": [
    {
     "data": {
      "text/plain": [
       "1"
      ]
     },
     "execution_count": 118,
     "metadata": {},
     "output_type": "execute_result"
    }
   ],
   "source": [
    "geom.partCount"
   ]
  },
  {
   "cell_type": "code",
   "execution_count": 119,
   "metadata": {},
   "outputs": [
    {
     "data": {
      "text/plain": [
       "15.039111922014502"
      ]
     },
     "execution_count": 119,
     "metadata": {},
     "output_type": "execute_result"
    }
   ],
   "source": [
    "geom.centroid.X"
   ]
  },
  {
   "cell_type": "code",
   "execution_count": 120,
   "metadata": {},
   "outputs": [
    {
     "data": {
      "text/plain": [
       "15.039111922247134"
      ]
     },
     "execution_count": 120,
     "metadata": {},
     "output_type": "execute_result"
    }
   ],
   "source": [
    "b[0].centroid.X"
   ]
  },
  {
   "cell_type": "code",
   "execution_count": 121,
   "metadata": {},
   "outputs": [
    {
     "data": {
      "text/plain": [
       "46"
      ]
     },
     "execution_count": 121,
     "metadata": {},
     "output_type": "execute_result"
    }
   ],
   "source": [
    "geom.pointCount"
   ]
  },
  {
   "cell_type": "code",
   "execution_count": 122,
   "metadata": {},
   "outputs": [
    {
     "data": {
      "text/plain": [
       "46"
      ]
     },
     "execution_count": 122,
     "metadata": {},
     "output_type": "execute_result"
    }
   ],
   "source": [
    "b[0].pointCount"
   ]
  },
  {
   "cell_type": "code",
   "execution_count": 123,
   "metadata": {},
   "outputs": [
    {
     "data": {
      "text/plain": [
       "'Eric'"
      ]
     },
     "execution_count": 123,
     "metadata": {},
     "output_type": "execute_result"
    }
   ],
   "source": [
    "from collections import deque\n",
    "queue = deque([\"Eric\", \"John\", \"Michael\"])\n",
    "queue.append(\"Terry\")           # Terry arrives\n",
    "queue.append(\"Graham\")          # Graham arrives\n",
    "queue.popleft()                 # The first to arrive now leaves"
   ]
  },
  {
   "cell_type": "code",
   "execution_count": 124,
   "metadata": {},
   "outputs": [
    {
     "name": "stdout",
     "output_type": "stream",
     "text": [
      "63.8 µs ± 269 ns per loop (mean ± std. dev. of 7 runs, 10000 loops each)\n"
     ]
    }
   ],
   "source": [
    "%%timeit\n",
    "q2 = deque(range(1000))\n",
    "while q2:\n",
    "    q2.popleft()"
   ]
  },
  {
   "cell_type": "code",
   "execution_count": 125,
   "metadata": {},
   "outputs": [
    {
     "name": "stdout",
     "output_type": "stream",
     "text": [
      "64.1 µs ± 980 ns per loop (mean ± std. dev. of 7 runs, 10000 loops each)\n"
     ]
    }
   ],
   "source": [
    "%%timeit\n",
    "q3 = deque(range(1000))\n",
    "while q3:\n",
    "     q3.pop()"
   ]
  },
  {
   "cell_type": "markdown",
   "metadata": {},
   "source": [
    "## 2. Refactor and encapsulate"
   ]
  },
  {
   "cell_type": "code",
   "execution_count": 126,
   "metadata": {},
   "outputs": [],
   "source": [
    "import numpy as np\n",
    "import pandas as pd\n",
    "import arcpy"
   ]
  },
  {
   "cell_type": "markdown",
   "metadata": {},
   "source": [
    "Create a convenient function that return `row` from an input feature class, given `id` and `fields_list`"
   ]
  },
  {
   "cell_type": "code",
   "execution_count": 127,
   "metadata": {},
   "outputs": [],
   "source": [
    "def get_row_info(wdpa_pid, data, fields_list):\n",
    "    \"\"\"\"\n",
    "    depending on the datatype of pid, generate correct SQL\n",
    "    <wdpa_pid>, <fc/fl>, <list of fields>\"\"\"\n",
    "    where_name = (isinstance(wdpa_pid, int) or isinstance(wdpa_pid, float)) and str(wdpa_pid) or ('\\'' + str(wdpa_pid) + '\\'')\n",
    "    \n",
    "    where_clause = \"wdpa_pid = \" + where_name\n",
    "\n",
    "    with arcpy.da.SearchCursor(data, fields_list, where_clause=where_clause) as cur:\n",
    "        for each in cur:\n",
    "            # if found return the first value\n",
    "            return each\n",
    "        \n",
    "    # if not found return None\n",
    "    return None"
   ]
  },
  {
   "cell_type": "markdown",
   "metadata": {},
   "source": [
    "Run a few spot checks to see if the `get_row_info` function works"
   ]
  },
  {
   "cell_type": "code",
   "execution_count": 128,
   "metadata": {
    "scrolled": false
   },
   "outputs": [
    {
     "name": "stdout",
     "output_type": "stream",
     "text": [
      "0 4342.0 Verlandungszone am Ostende des Packer Stausees Naturschutzgebiet\n",
      "1 169099.0 Hohe Tauern Nationalpark\n",
      "2 169489.0 Teile des Edlacher Moores Geschützter Landschaftsteil\n",
      "3 555513711.0 Naturpark Rosalia-Koglberg Naturpark\n",
      "4 555513732.0 südlich Neuberggipfel Geschützte Biotope\n",
      "5 555513733.0 Fasangarten Geschützte Biotope\n",
      "6 555558910.0 Nähe Herrnholz-Stammersdorf Geschützte Biotope\n",
      "7 4348.0 Inneres Pöllatal Naturschutzgebiet\n",
      "8 169177.0 Pirkdorfer See Landschaftsschutzgebiet\n"
     ]
    }
   ],
   "source": [
    "with arcpy.da.SearchCursor(old_data, ['wdpaid', 'name', 'desig']) as cur:\n",
    "    for i, row in enumerate(cur):\n",
    "        print(i, row[0], row[1], row[2])"
   ]
  },
  {
   "cell_type": "code",
   "execution_count": 129,
   "metadata": {},
   "outputs": [
    {
     "name": "stdout",
     "output_type": "stream",
     "text": [
      "None\n"
     ]
    }
   ],
   "source": [
    "# check if data is there\n",
    "print(get_row_info('191', old_data, ['wdpaid', 'name']))"
   ]
  },
  {
   "cell_type": "code",
   "execution_count": 130,
   "metadata": {},
   "outputs": [
    {
     "name": "stdout",
     "output_type": "stream",
     "text": [
      "(4342.0, 'Verlandungszone am Ostende des Packer Stausees')\n"
     ]
    }
   ],
   "source": [
    "# check if data is there\n",
    "print(get_row_info('4342', new_data, ['wdpaid', 'name']))"
   ]
  },
  {
   "cell_type": "markdown",
   "metadata": {},
   "source": [
    "It can be annoying having to create a layer with a name that has been used before\n",
    "\n",
    "Create a wrap for a function that does 1) checking if the layer name has been used, if used delete 2) create the layer"
   ]
  },
  {
   "cell_type": "code",
   "execution_count": 131,
   "metadata": {},
   "outputs": [],
   "source": [
    "def create_layer(data, out_layer, *arg, **karg):\n",
    "    if arcpy.Exists(out_layer):\n",
    "        arcpy.Delete_management(out_layer)\n",
    "    arcpy.MakeFeatureLayer_management(data, out_layer, *arg, **karg)"
   ]
  },
  {
   "cell_type": "markdown",
   "metadata": {
    "collapsed": true
   },
   "source": [
    "Create layers, which make things run a lot faster!"
   ]
  },
  {
   "cell_type": "markdown",
   "metadata": {},
   "source": [
    "Input and output - dummy data from Austria"
   ]
  },
  {
   "cell_type": "code",
   "execution_count": 132,
   "metadata": {},
   "outputs": [],
   "source": [
    "old_data_path = r\".\\data.gdb\\old\"\n",
    "new_data_path = r\".\\data.gdb\\new\"\n",
    "\n",
    "out_file = 'test_wdpa.csv'\n",
    "\n",
    "# create layers\n",
    "old_data = 'old'\n",
    "new_data = 'new'\n",
    "\n",
    "# create layers for two monthly releases\n",
    "create_layer(old_data_path, old_data)\n",
    "create_layer(new_data_path, new_data)"
   ]
  },
  {
   "cell_type": "markdown",
   "metadata": {},
   "source": [
    "Get information about geometry"
   ]
  },
  {
   "cell_type": "code",
   "execution_count": 133,
   "metadata": {},
   "outputs": [],
   "source": [
    "def geom_description(geom):\n",
    "    if not isinstance(geom, arcpy.Geometry):\n",
    "        raise Exception('arcpy Geometry object expected')\n",
    "    \n",
    "    try:\n",
    "        return 'area:{0:.2f}km2; point_count:{1}; part_count:{2}; centroid(xy):{3:.6f}-{4:.6f}'.format(geom.getArea(units='SQUAREKILOMETERS'),\n",
    "        geom.pointCount,\n",
    "        geom.partCount,\n",
    "        geom.centroid.X,\n",
    "        geom.centroid.Y)\n",
    "\n",
    "    except:\n",
    "        return 'Error in retrieving geometry information'"
   ]
  },
  {
   "cell_type": "markdown",
   "metadata": {},
   "source": [
    "The following section illustrates:\n",
    "1. create a `deque` to faciliate first come first serve\n",
    "2. start from the list of ids from the old data\n",
    "3. iterate through the old data and compare to the new data to find records of DELETION (if no id found in new data) and CHANGE (iterate through the field list and compare field value)\n",
    "4. iterate through the new data and compare to the old data to find records of ADDITION (simple `np.setdiff1d`)"
   ]
  },
  {
   "cell_type": "code",
   "execution_count": 134,
   "metadata": {},
   "outputs": [],
   "source": [
    "# %%timeit about: 4min 13s for WDPA\n",
    "from collections import deque\n",
    "q = deque()\n",
    "\n",
    "BASE = ['wdpa_pid', 'name', 'parent_iso3']\n",
    "header = BASE + ['field', 'old_value', 'new_value']\n",
    "fields_to_check = BASE + ['name', 'orig_name', 'desig', 'desig_eng', 'desig_type', 'iucn_cat', 'no_take', 'status', 'status_yr', 'SHAPE@']\n",
    "\n",
    "FIELDS_LEN = len(fields_to_check)\n",
    "\n",
    "o_idlist = list()\n",
    "\n",
    "# header\n",
    "q.append(header)\n",
    "\n",
    "# start from old: DELETION and CHANGE\n",
    "with arcpy.da.SearchCursor(old_data, fields_to_check) as cur:\n",
    "    # for each old row, find and compare new row\n",
    "    for o_row in cur:\n",
    "        wdpa_pid = o_row[0]\n",
    "        name = o_row[1]\n",
    "        iso3 = o_row[2]\n",
    "        n_row = get_row_info(wdpa_pid, new_data, fields_list=fields_to_check)\n",
    "        \n",
    "        # if no new row is found\n",
    "        if not n_row:\n",
    "            row = [wdpa_pid, name, iso3, 'DELETED', '', '']\n",
    "            q.append(row)\n",
    "        \n",
    "        # if corresponding row found\n",
    "        else:\n",
    "            o_idlist.append(wdpa_pid)\n",
    "            \n",
    "            # Non spatial\n",
    "            for i in range(FIELDS_LEN)[3:-1]:\n",
    "                if n_row[i] != o_row[i]:\n",
    "                    # row: pid, name, iso3, field, old_val, new_val\n",
    "                    row = [wdpa_pid, name, iso3, fields_to_check[i], o_row[i], n_row[i]]\n",
    "                    q.append(row)\n",
    "            \n",
    "            # spatial\n",
    "            if n_row[-1] != o_row[-1]:\n",
    "                row = [wdpa_pid, name, iso3, 'Geometry', geom_description(o_row[-1]), geom_description(n_row[-1])]\n",
    "                q.append(row)"
   ]
  },
  {
   "cell_type": "code",
   "execution_count": 135,
   "metadata": {},
   "outputs": [],
   "source": [
    "# start from new: ADD\n",
    "n_idlist = list()\n",
    "with arcpy.da.SearchCursor(new_data, BASE) as cur:\n",
    "    for row in cur:\n",
    "        n_idlist.append(row[0])"
   ]
  },
  {
   "cell_type": "code",
   "execution_count": 136,
   "metadata": {},
   "outputs": [
    {
     "data": {
      "text/plain": [
       "(7, 7)"
      ]
     },
     "execution_count": 136,
     "metadata": {},
     "output_type": "execute_result"
    }
   ],
   "source": [
    "len(n_idlist), len(o_idlist)"
   ]
  },
  {
   "cell_type": "code",
   "execution_count": 137,
   "metadata": {},
   "outputs": [],
   "source": [
    "# find addition\n",
    "import numpy as np\n",
    "n_id = np.array(n_idlist)\n",
    "o_id = np.array(o_idlist)\n",
    "\n",
    "np.setdiff1d(o_id, n_id)\n",
    "\n",
    "a_id = list(np.setdiff1d(n_id, o_id))\n",
    "\n",
    "for wdpa_pid in a_id:\n",
    "    n_row = get_row_info(wdpa_pid, new_data, BASE)\n",
    "\n",
    "    wdpa_pid = n_row[0]\n",
    "    name = n_row[1]\n",
    "    iso3 = n_row[2]\n",
    "    \n",
    "    row = [wdpa_pid, name, iso3, 'ADDED', '', '']\n",
    "    q.append(row)"
   ]
  },
  {
   "cell_type": "code",
   "execution_count": 138,
   "metadata": {},
   "outputs": [],
   "source": [
    "# write outputs\n",
    "import codecs\n",
    "import copy\n",
    "\n",
    "# shallow copy\n",
    "qq = copy.deepcopy(q)\n",
    "\n",
    "with codecs.open(out_file, mode='w', encoding='utf-8') as f:\n",
    "    while qq:\n",
    "        row = qq.popleft()\n",
    "        # convert int and float to str, noting unicode\n",
    "        # and-or trick: C equivalent boolean? x, y\n",
    "        f.write(','.join(map(lambda x: (isinstance(x, int) or isinstance(x, float)) and str(x) or \"\\\"\" + x + \"\\\"\", row)) + '\\n')"
   ]
  },
  {
   "cell_type": "markdown",
   "metadata": {},
   "source": [
    "Take a look at the output file"
   ]
  },
  {
   "cell_type": "code",
   "execution_count": 139,
   "metadata": {},
   "outputs": [],
   "source": [
    "result = pd.read_csv(out_file)"
   ]
  },
  {
   "cell_type": "code",
   "execution_count": 140,
   "metadata": {},
   "outputs": [
    {
     "data": {
      "text/html": [
       "<div>\n",
       "<style scoped>\n",
       "    .dataframe tbody tr th:only-of-type {\n",
       "        vertical-align: middle;\n",
       "    }\n",
       "\n",
       "    .dataframe tbody tr th {\n",
       "        vertical-align: top;\n",
       "    }\n",
       "\n",
       "    .dataframe thead th {\n",
       "        text-align: right;\n",
       "    }\n",
       "</style>\n",
       "<table border=\"1\" class=\"dataframe\">\n",
       "  <thead>\n",
       "    <tr style=\"text-align: right;\">\n",
       "      <th></th>\n",
       "      <th>wdpa_pid</th>\n",
       "      <th>name</th>\n",
       "      <th>parent_iso3</th>\n",
       "      <th>field</th>\n",
       "      <th>old_value</th>\n",
       "      <th>new_value</th>\n",
       "    </tr>\n",
       "  </thead>\n",
       "  <tbody>\n",
       "    <tr>\n",
       "      <th>0</th>\n",
       "      <td>169099</td>\n",
       "      <td>Hohe Tauern</td>\n",
       "      <td>AUT</td>\n",
       "      <td>Geometry</td>\n",
       "      <td>area:805.59km2; point_count:6734; part_count:4...</td>\n",
       "      <td>Error in retrieving geometry information</td>\n",
       "    </tr>\n",
       "    <tr>\n",
       "      <th>1</th>\n",
       "      <td>169489</td>\n",
       "      <td>Teile des Edlacher Moores</td>\n",
       "      <td>AUT</td>\n",
       "      <td>desig</td>\n",
       "      <td>Geschützter Landschaftsteil</td>\n",
       "      <td>Naturschutzgebiet</td>\n",
       "    </tr>\n",
       "    <tr>\n",
       "      <th>2</th>\n",
       "      <td>169489</td>\n",
       "      <td>Teile des Edlacher Moores</td>\n",
       "      <td>AUT</td>\n",
       "      <td>desig_eng</td>\n",
       "      <td>Protected Landscape Section</td>\n",
       "      <td>Nature Reserve</td>\n",
       "    </tr>\n",
       "    <tr>\n",
       "      <th>3</th>\n",
       "      <td>169489</td>\n",
       "      <td>Teile des Edlacher Moores</td>\n",
       "      <td>AUT</td>\n",
       "      <td>Geometry</td>\n",
       "      <td>area:0.18km2; point_count:80; part_count:1; ce...</td>\n",
       "      <td>area:0.18km2; point_count:80; part_count:1; ce...</td>\n",
       "    </tr>\n",
       "    <tr>\n",
       "      <th>4</th>\n",
       "      <td>555513711</td>\n",
       "      <td>Naturpark Rosalia-Koglberg</td>\n",
       "      <td>AUT</td>\n",
       "      <td>Geometry</td>\n",
       "      <td>area:505.86km2; point_count:3818; part_count:1...</td>\n",
       "      <td>area:577.98km2; point_count:12095; part_count:...</td>\n",
       "    </tr>\n",
       "    <tr>\n",
       "      <th>5</th>\n",
       "      <td>555513732</td>\n",
       "      <td>südlich Neuberggipfel</td>\n",
       "      <td>AUT</td>\n",
       "      <td>desig_eng</td>\n",
       "      <td>Protected Biotope</td>\n",
       "      <td>protected biotopes</td>\n",
       "    </tr>\n",
       "    <tr>\n",
       "      <th>6</th>\n",
       "      <td>555513733</td>\n",
       "      <td>Fasangarten</td>\n",
       "      <td>AUT</td>\n",
       "      <td>desig_eng</td>\n",
       "      <td>Protected Biotope</td>\n",
       "      <td>protected biotopes</td>\n",
       "    </tr>\n",
       "    <tr>\n",
       "      <th>7</th>\n",
       "      <td>555558910</td>\n",
       "      <td>Nähe Herrnholz-Stammersdorf</td>\n",
       "      <td>AUT</td>\n",
       "      <td>desig_eng</td>\n",
       "      <td>Protected Biotope</td>\n",
       "      <td>protected biotopes</td>\n",
       "    </tr>\n",
       "    <tr>\n",
       "      <th>8</th>\n",
       "      <td>4348</td>\n",
       "      <td>Inneres Pöllatal</td>\n",
       "      <td>AUT</td>\n",
       "      <td>DELETED</td>\n",
       "      <td>NaN</td>\n",
       "      <td>NaN</td>\n",
       "    </tr>\n",
       "    <tr>\n",
       "      <th>9</th>\n",
       "      <td>169177</td>\n",
       "      <td>Pirkdorfer See</td>\n",
       "      <td>AUT</td>\n",
       "      <td>DELETED</td>\n",
       "      <td>NaN</td>\n",
       "      <td>NaN</td>\n",
       "    </tr>\n",
       "  </tbody>\n",
       "</table>\n",
       "</div>"
      ],
      "text/plain": [
       "    wdpa_pid                         name parent_iso3      field  \\\n",
       "0     169099                  Hohe Tauern         AUT   Geometry   \n",
       "1     169489    Teile des Edlacher Moores         AUT      desig   \n",
       "2     169489    Teile des Edlacher Moores         AUT  desig_eng   \n",
       "3     169489    Teile des Edlacher Moores         AUT   Geometry   \n",
       "4  555513711   Naturpark Rosalia-Koglberg         AUT   Geometry   \n",
       "5  555513732        südlich Neuberggipfel         AUT  desig_eng   \n",
       "6  555513733                  Fasangarten         AUT  desig_eng   \n",
       "7  555558910  Nähe Herrnholz-Stammersdorf         AUT  desig_eng   \n",
       "8       4348             Inneres Pöllatal         AUT    DELETED   \n",
       "9     169177               Pirkdorfer See         AUT    DELETED   \n",
       "\n",
       "                                           old_value  \\\n",
       "0  area:805.59km2; point_count:6734; part_count:4...   \n",
       "1                        Geschützter Landschaftsteil   \n",
       "2                        Protected Landscape Section   \n",
       "3  area:0.18km2; point_count:80; part_count:1; ce...   \n",
       "4  area:505.86km2; point_count:3818; part_count:1...   \n",
       "5                                  Protected Biotope   \n",
       "6                                  Protected Biotope   \n",
       "7                                  Protected Biotope   \n",
       "8                                                NaN   \n",
       "9                                                NaN   \n",
       "\n",
       "                                           new_value  \n",
       "0           Error in retrieving geometry information  \n",
       "1                                  Naturschutzgebiet  \n",
       "2                                     Nature Reserve  \n",
       "3  area:0.18km2; point_count:80; part_count:1; ce...  \n",
       "4  area:577.98km2; point_count:12095; part_count:...  \n",
       "5                                 protected biotopes  \n",
       "6                                 protected biotopes  \n",
       "7                                 protected biotopes  \n",
       "8                                                NaN  \n",
       "9                                                NaN  "
      ]
     },
     "execution_count": 140,
     "metadata": {},
     "output_type": "execute_result"
    }
   ],
   "source": [
    "result"
   ]
  }
 ],
 "metadata": {
  "anaconda-cloud": {},
  "kernelspec": {
   "display_name": "Python 3",
   "language": "python",
   "name": "python3"
  },
  "language_info": {
   "codemirror_mode": {
    "name": "ipython",
    "version": 3
   },
   "file_extension": ".py",
   "mimetype": "text/x-python",
   "name": "python",
   "nbconvert_exporter": "python",
   "pygments_lexer": "ipython3",
   "version": "3.6.6"
  }
 },
 "nbformat": 4,
 "nbformat_minor": 2
}
